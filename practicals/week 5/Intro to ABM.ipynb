{
 "cells": [
  {
   "cell_type": "markdown",
   "id": "ancient-terror",
   "metadata": {
    "slideshow": {
     "slide_type": "slide"
    }
   },
   "source": [
    "### CASA0002\n",
    "\n",
    "# Urban Simulation\n",
    "***\n",
    "## Agent Based Modelling\n",
    "\n",
    "Mateo Neira\n",
    "***\n",
    "\n",
    "In this lab, we will go over a practical implementation of an agent-based model in python. We will be using [MESA](https://pypi.org/project/Mesa/), an agent-based modelling framework for python. There are numerous software and frameworks for agent-based-modelling, such as NetLogo or Repast. We have decided to show the practical implementation in python to remain consistent with the rest of the module’s contents. The main objective is to introduce important considerations when running these types of models and analyse results from these. Don't worry too much about the technical aspects of the model implementation, but rather in the concepts and analysis.\n",
    "\n",
    "For those of you who are interested in setting up your own ABM's, you can check out [MESA's Documentation on specifying a model](https://mesa.readthedocs.io/en/master/tutorials/intro_tutorial.html). "
   ]
  },
  {
   "cell_type": "markdown",
   "id": "devoted-minneapolis",
   "metadata": {
    "slideshow": {
     "slide_type": "slide"
    }
   },
   "source": [
    "## Resources\n",
    "\n",
    "---\n",
    "\n",
    "* **Online video-course from the Complexity Explorer (Santa Fe Institute)**: [Intro to ABM by William Rand](https://www.complexityexplorer.org/courses/101-introduction-to-agent-based-modeling-spring-2020)\n",
    "* **Agent Based Modeling paper**: [\"Agent Based Modeling and Simulation:\n",
    "An Informatics Perspective\". Stefania Bandini, Sara Manzoni and Giuseppe Vizzari\n",
    "(2009), Journal of Artificial Societies and Social Simulation 12 (4) 4](http://jasss.soc.surrey.ac.uk/12/4/4.html)\n",
    "* **Agent-Based Models and urban form**: [\"Modelling spatial morphologies: Fractal patterns from cellular\n",
    "automata.\". Batty, Michael, and Paul A. Longley. (2014)](https://www.taylorfrancis.com/chapters/modelling-spatial-morphologies-fractal-patterns-cellular-automata-robert-abrahart-linda-see/10.1201/b17091-9)"
   ]
  },
  {
   "cell_type": "markdown",
   "id": "attached-oracle",
   "metadata": {
    "slideshow": {
     "slide_type": "slide"
    }
   },
   "source": [
    "## What is a Model?\n",
    "\n",
    "* Abstracted description of a process, object or event\n",
    "* Exaggerates certain aspects at the expense of others\n",
    "\n",
    "## What is an Agent Based Model?\n",
    "\n",
    "* A model composed of **agents**\n",
    "    * Autonomous individual element with **properties** and **actions**\n",
    "* Composed of:\n",
    "    * Environment\n",
    "    * Agents\n",
    "    * Description of **agent-agent** and **agent-environment** interactions"
   ]
  },
  {
   "cell_type": "markdown",
   "id": "following-collect",
   "metadata": {
    "slideshow": {
     "slide_type": "slide"
    }
   },
   "source": [
    "### The basics of a multi-agent system\n",
    "\n",
    "![](flock.gif)\n",
    "\n",
    "Agent-based models are models that allow heterogeneity (in contrast to mean-field or statistical approaches). In these types of models, there is no central control, agents are autonomous and can interact with other agents and the environment. Individual behaviours of the agents are aggregated into global mechanisms (for example flocking behaviour).\n",
    "\n",
    "There are two main design strategies for ABM:\n",
    "\n",
    "* **Phenomena-based modelling**: the characteristic patterns that we want to model are known.\n",
    "    * object is to find a set of agents and rules that will generate the know reference pattern\n",
    "* **Exploratory modelling**: built using a bottom-up approach. We start with a basic set of mechanisms and explore the results\n",
    "    * cellular automata is an example\n",
    "\n"
   ]
  },
  {
   "cell_type": "markdown",
   "id": "baking-pharmacology",
   "metadata": {
    "slideshow": {
     "slide_type": "slide"
    }
   },
   "source": [
    "### Agent-Based Models in Geographical and Urban Systems\n",
    "\n",
    "**What are the consequences of individual behaviours and decision-making over space and time?**\n",
    "\n",
    "---\n",
    "    \n",
    "In this practical we will be focusing on implementing Schelling's model of segregation. The model was developed by the economist Thomas Schelling and is one of the earliest examples of agent-based models, which contain:\n",
    "\n",
    "* Autonomous agents interacting in a shared environment\n",
    "* Emergent global patterns from local interactions and decisions"
   ]
  },
  {
   "cell_type": "markdown",
   "id": "convenient-sound",
   "metadata": {
    "slideshow": {
     "slide_type": "slide"
    }
   },
   "source": [
    "\n",
    "\n",
    "### Dynamic models of segregation\n",
    "\n",
    "Schelling's Segregation model was proposed in 1971 in his paper [\"Dynamic models of segregation\"](https://www.tandfonline.com/doi/abs/10.1080/0022250X.1971.9989794). The model consists of Agents that can belong to one of two groups (A or B) and occupies a space in a $N \\times N$ grid. Each agent has a preference for how many neighbours must be of its same group for it to be happy. Unhappy agents pick a new random location to relocate until they are happy. The model runs until there are no more unhappy agents. \n",
    "\n",
    "The model demostrates how even mild preferences for similar neighbours can result in high degree of segregation"
   ]
  },
  {
   "cell_type": "markdown",
   "id": "ethical-recording",
   "metadata": {
    "slideshow": {
     "slide_type": "slide"
    }
   },
   "source": [
    "Before getting started we need to install MESA into our environment. We can do this directly from jupyter notebook by using the magic command '!'  and providing '-y' to specify yes to the install prompt as you can not submit input to the commands when running.\n",
    "\n",
    "> ! conda install mesa -y\n",
    "\n",
    "The installation should be fairly quick, as the framework is not to heavy and has few dependencies."
   ]
  },
  {
   "cell_type": "code",
   "execution_count": null,
   "id": "massive-belle",
   "metadata": {
    "slideshow": {
     "slide_type": "subslide"
    }
   },
   "outputs": [],
   "source": [
    "!conda install mesa -y"
   ]
  },
  {
   "cell_type": "code",
   "execution_count": 2,
   "id": "hazardous-constraint",
   "metadata": {
    "slideshow": {
     "slide_type": "slide"
    }
   },
   "outputs": [],
   "source": [
    "#now that we have mesa installed we can import the required components\n",
    "from mesa import Agent, Model #class for specifying agents and model\n",
    "from mesa.space import SingleGrid \n",
    "from mesa.time import RandomActivation\n",
    "from mesa.datacollection import DataCollector\n",
    "\n",
    "#for visualization purposes\n",
    "from mesa.visualization.ModularVisualization import ModularServer \n",
    "from mesa.visualization.modules import CanvasGrid, ChartModule, TextElement\n",
    "from mesa.visualization.UserParam import UserSettableParameter\n",
    "import matplotlib.pyplot as plt\n",
    "import seaborn as sns"
   ]
  },
  {
   "cell_type": "markdown",
   "id": "awful-visit",
   "metadata": {
    "slideshow": {
     "slide_type": "slide"
    }
   },
   "source": [
    "## Setting up the model\n",
    "\n",
    "We will be using the two core classes that we imported previously: \n",
    "* **Agent**: which specifies the agents\n",
    "* **Model**: which holds model-level attributes and manages the agents\n",
    "\n",
    "The **Model** will be specified by:\n",
    "* size of world given by a height and a width\n",
    "* population density\n",
    "* agent threshold which defines how many similar neighbours are required for the agents to be happy\n",
    "* percentage of minority group"
   ]
  },
  {
   "cell_type": "markdown",
   "id": "listed-referral",
   "metadata": {
    "slideshow": {
     "slide_type": "slide"
    }
   },
   "source": [
    "## The Agents\n",
    "\n",
    "We will start by specifing the agents in our model. We will do this by creating our own agents class that will inheret from the Agents class from the MESA library. \n",
    "\n",
    "We need our agents to have two variables:\n",
    "* position: this will be the x,y coordinates related to the location of the agent in our grid world.\n",
    "* group: each agent can belong to one of two groups (1,0)\n",
    "\n",
    "And we need our agents to be able to do three things:\n",
    "* check what group their neighbours belong to.\n",
    "* determine if they are happy with their location\n",
    "* move to an empty cell if they are not happy"
   ]
  },
  {
   "cell_type": "code",
   "execution_count": 3,
   "id": "included-shirt",
   "metadata": {
    "slideshow": {
     "slide_type": "subslide"
    }
   },
   "outputs": [],
   "source": [
    "class SchellingAgent(Agent):\n",
    "    \"\"\"\n",
    "    here we define the parameters that the agent will have\n",
    "    each agent will have a position which specifies its location in the grid\n",
    "    and a type, which specifies which group it belongs to\n",
    "    \"\"\"\n",
    "    \n",
    "    def __init__(self, pos, model, group):\n",
    "        super().__init__(pos, model)\n",
    "        #create variables we need\n",
    "        self.pos = pos\n",
    "        self.group = group\n",
    "        \n",
    "        #additional variables needed\n",
    "        #to calculate segregation and happiness\n",
    "        self.similar_neighbours = 0.0\n",
    "        self.total_neighbours = 0.0\n",
    "        self.happy = False\n",
    "    \n",
    "    def step(self):\n",
    "        \"\"\"\n",
    "        here we specify what each agent does in each model iteration\n",
    "        essentially its a function that calculates number of similar neighbours\n",
    "        moves the agent to a different empty location if the number of similar neighbours is bellow its treshold\n",
    "        \"\"\"\n",
    "\n",
    "        #calculate number of similar neighbours\n",
    "        self.similar_neighbours = 0\n",
    "        self.total_neighbours = 0\n",
    "        \n",
    "        #we iterate through the neighbours of the agent\n",
    "        for neighbour in self.model.grid.neighbor_iter(self.pos):\n",
    "            #if neighbour is the same as the agent add one to similar_neighbour\n",
    "            if neighbour.group == self.group:\n",
    "                self.similar_neighbours +=1\n",
    "            #count number of neighbours by adding 1 to total_neighbourhood    \n",
    "            self.total_neighbours +=1\n",
    "        \n",
    "        #check if number of similar neighbours is bellow threshold\n",
    "        if self.similar_neighbours <= self.model.threshold * self.total_neighbours:\n",
    "            #move agent to empty grid\n",
    "            self.model.grid.move_to_empty(self)\n",
    "        else:\n",
    "            #report happy agent to model\n",
    "            self.happy = True"
   ]
  },
  {
   "cell_type": "markdown",
   "id": "clinical-supervisor",
   "metadata": {
    "slideshow": {
     "slide_type": "slide"
    }
   },
   "source": [
    "## The Model\n",
    "\n",
    "The model is a little bit more complicated to setup as it is composed of three different components:\n",
    "* **space**: the world were the agents will live\n",
    "* **agents**: the agents that occupy the world\n",
    "* **scheduler**: how the agents update their states "
   ]
  },
  {
   "cell_type": "markdown",
   "id": "incorporated-tablet",
   "metadata": {
    "slideshow": {
     "slide_type": "subslide"
    }
   },
   "source": [
    "### Space\n",
    "\n",
    "There are different types of spaces:\n",
    "\n",
    "* **Continuous spaces**: here each agent can occupy any arbitrary position, neighbours are defined according to distances betweeen agents (radius)\n",
    "\n",
    "* **Discrete spaces**: each agent can occupy only specific places on the space (for example a cell in a grid). Neighbours are defined by adjacency in the discrete space.\n",
    "    * Grid space\n",
    "    * Network space\n",
    "\n",
    "Each one of these types can also have different topologies. The topology of a space essentially defines how neighbours are defined at the 'borders' of the space.\n",
    "* Finite/infine planar spaces: cartesian spaces of any dimension\n",
    "* Toroidal space\n",
    "* Spherical space\n",
    "\n",
    "In our Schelling model we will be using a discrete toroidal space. We can easily do this with MESA:\n",
    "\n",
    "```python\n",
    "from mesa.space import SingleGrid\n",
    "grid = SingleGrid(size[0], size[1], torus=True)\n",
    "```"
   ]
  },
  {
   "cell_type": "markdown",
   "id": "familiar-teaching",
   "metadata": {
    "slideshow": {
     "slide_type": "subslide"
    }
   },
   "source": [
    "### Scheduler\n",
    "\n",
    "Time in most agent-based models moves in steps, sometimes also called ticks. At each time step agents are activated, take actions, or change internal states. How agents are activated at each time step is an important design decision when specifing our models. The scheduler takes care of this task.\n",
    "\n",
    "schedueler handles how agents update their states.\n",
    "* synchronous: all agents update their state at the same time \n",
    "* asynchronous: agents update sequentially, of at different times\n",
    "\n",
    "\n",
    "In our case we will be updating the agents asynchronously\n",
    "```python\n",
    "from mesa.time import RandomActivation\n",
    "\n",
    "schedule = RandomActivation(model)\n",
    "```"
   ]
  },
  {
   "cell_type": "code",
   "execution_count": 4,
   "id": "protective-special",
   "metadata": {
    "slideshow": {
     "slide_type": "subslide"
    }
   },
   "outputs": [],
   "source": [
    "# we put this all together in our model class\n",
    "#similar to agents, we inheret from mesa.Model class\n",
    "class Schelling(Model):\n",
    "    def __init__(self, size, density, percent_minority, threshold):\n",
    "        #setup initial variables\n",
    "        self.size =  size\n",
    "        self.density = density\n",
    "        self.percent_minority = percent_minority\n",
    "        self.threshold = threshold\n",
    "        \n",
    "        #create grid\n",
    "        self.grid = SingleGrid(size[0], size[1], torus=True)\n",
    "        \n",
    "        #create schedueler to manage agents\n",
    "        self.schedule = RandomActivation(self)\n",
    "        \n",
    "        #setup the data collector to gather information about all agents\n",
    "        self.datacollector = DataCollector(\n",
    "            {'happy': lambda m: self.happy(),\n",
    "             'segregation': lambda m: self.segregation(),\n",
    "            },\n",
    "            {'x': lambda a: a.pos[0], \n",
    "             'y': lambda a: a.pos[1],\n",
    "             'num_similar': lambda a: a.similar_neighbours,\n",
    "             'total_neighbours':lambda a: a.total_neighbours\n",
    "            }\n",
    "        )\n",
    "        \n",
    "        #setup agents by iterating through the grid and placing agents at random\n",
    "        for cell in self.grid.coord_iter():\n",
    "            #each sell is a tuple with 3 values (agent, x, y)\n",
    "            x = cell[1]\n",
    "            y = cell[2]\n",
    "            \n",
    "            #add agents according to density\n",
    "            if self.random.random() < self.density:\n",
    "                if self.random.random() < self.percent_minority:\n",
    "                    agent_group = 1\n",
    "                else:\n",
    "                    agent_group = 0 \n",
    "            \n",
    "                #initiate an agent at position in grid\n",
    "                agent = SchellingAgent((x,y), self, agent_group)\n",
    "                \n",
    "                #add agent to grid\n",
    "                self.grid.position_agent(agent, (x,y))\n",
    "                \n",
    "                #add agent to scheduler\n",
    "                self.schedule.add(agent)\n",
    "            \n",
    "        self.running = True\n",
    "        self.datacollector.collect(self)\n",
    "        \n",
    "    def step(self):\n",
    "        self.schedule.step()\n",
    "        \n",
    "        self.datacollector.collect(self)\n",
    "        \n",
    "        if self.happy() == 1.0:\n",
    "            self.running = False\n",
    "    \n",
    "    def happy(self):\n",
    "        '''\n",
    "        Helper method to measure percent of happy agents\n",
    "        ''' \n",
    "        happy = 0 \n",
    "        for agent in self.schedule.agents:\n",
    "            if agent.happy:\n",
    "                happy +=1\n",
    "        return happy / self.schedule.get_agent_count()\n",
    "            \n",
    "    def segregation(self):\n",
    "        '''\n",
    "        Helper method to measure total segregation\n",
    "        '''\n",
    "        segregation  = 0\n",
    "        for agent in self.schedule.agents:\n",
    "            if agent.total_neighbours !=0:\n",
    "                segregation += agent.similar_neighbours / agent.total_neighbours\n",
    "        return segregation / self.schedule.get_agent_count()"
   ]
  },
  {
   "cell_type": "markdown",
   "id": "comparable-vessel",
   "metadata": {
    "slideshow": {
     "slide_type": "slide"
    }
   },
   "source": [
    "Now thats our model! \n",
    "\n",
    "we can run this quickly and see if its all working \n",
    "\n",
    "```python\n",
    "model = Schelling((10,10), 0.8,0.5,0.3)\n",
    "```"
   ]
  },
  {
   "cell_type": "code",
   "execution_count": 12,
   "id": "received-toyota",
   "metadata": {
    "slideshow": {
     "slide_type": "subslide"
    }
   },
   "outputs": [
    {
     "name": "stdout",
     "output_type": "stream",
     "text": [
      "6\n"
     ]
    }
   ],
   "source": [
    "#we instantiate our model with the parameters of interest \n",
    "model = Schelling((20,20), 0.8,0.5,0.3)\n",
    "\n",
    "#we run our model\n",
    "#notice we run it in a while loop\n",
    "#this is because in some cases, our model may not converge\n",
    "#(no matter how long we run the model, not all agents will ever be happy!)\n",
    "\n",
    "while model.running and model.schedule.steps < 100:\n",
    "    model.step()\n",
    "print(model.schedule.steps) # Show how many steps have actually run"
   ]
  },
  {
   "cell_type": "code",
   "execution_count": 13,
   "id": "blond-novel",
   "metadata": {
    "slideshow": {
     "slide_type": "subslide"
    }
   },
   "outputs": [
    {
     "name": "stdout",
     "output_type": "stream",
     "text": [
      "321 agents\n",
      "of which 100% are happy\n",
      "total segregation: 69.25%\n"
     ]
    }
   ],
   "source": [
    "#we can call the model to get outputs\n",
    "total_agents = model.schedule.get_agent_count()\n",
    "perc_happy = model.happy()\n",
    "\n",
    "print(f'{total_agents} agents')\n",
    "print(f'of which {perc_happy * 100:.0f}% are happy')\n",
    "print(f'total segregation: {model.segregation()*100:.2f}%')"
   ]
  },
  {
   "cell_type": "code",
   "execution_count": 14,
   "id": "coastal-liverpool",
   "metadata": {
    "slideshow": {
     "slide_type": "subslide"
    }
   },
   "outputs": [
    {
     "data": {
      "text/html": [
       "<div>\n",
       "<style scoped>\n",
       "    .dataframe tbody tr th:only-of-type {\n",
       "        vertical-align: middle;\n",
       "    }\n",
       "\n",
       "    .dataframe tbody tr th {\n",
       "        vertical-align: top;\n",
       "    }\n",
       "\n",
       "    .dataframe thead th {\n",
       "        text-align: right;\n",
       "    }\n",
       "</style>\n",
       "<table border=\"1\" class=\"dataframe\">\n",
       "  <thead>\n",
       "    <tr style=\"text-align: right;\">\n",
       "      <th></th>\n",
       "      <th>happy</th>\n",
       "      <th>segregation</th>\n",
       "    </tr>\n",
       "  </thead>\n",
       "  <tbody>\n",
       "    <tr>\n",
       "      <th>0</th>\n",
       "      <td>0.000000</td>\n",
       "      <td>0.000000</td>\n",
       "    </tr>\n",
       "    <tr>\n",
       "      <th>1</th>\n",
       "      <td>0.828660</td>\n",
       "      <td>0.531305</td>\n",
       "    </tr>\n",
       "    <tr>\n",
       "      <th>2</th>\n",
       "      <td>0.965732</td>\n",
       "      <td>0.626057</td>\n",
       "    </tr>\n",
       "    <tr>\n",
       "      <th>3</th>\n",
       "      <td>0.984424</td>\n",
       "      <td>0.654521</td>\n",
       "    </tr>\n",
       "    <tr>\n",
       "      <th>4</th>\n",
       "      <td>0.996885</td>\n",
       "      <td>0.675512</td>\n",
       "    </tr>\n",
       "  </tbody>\n",
       "</table>\n",
       "</div>"
      ],
      "text/plain": [
       "      happy  segregation\n",
       "0  0.000000     0.000000\n",
       "1  0.828660     0.531305\n",
       "2  0.965732     0.626057\n",
       "3  0.984424     0.654521\n",
       "4  0.996885     0.675512"
      ]
     },
     "execution_count": 14,
     "metadata": {},
     "output_type": "execute_result"
    }
   ],
   "source": [
    "model_out = model.datacollector.get_model_vars_dataframe()\n",
    "model_out.head()"
   ]
  },
  {
   "cell_type": "code",
   "execution_count": 15,
   "id": "composite-clone",
   "metadata": {},
   "outputs": [
    {
     "data": {
      "text/html": [
       "<div>\n",
       "<style scoped>\n",
       "    .dataframe tbody tr th:only-of-type {\n",
       "        vertical-align: middle;\n",
       "    }\n",
       "\n",
       "    .dataframe tbody tr th {\n",
       "        vertical-align: top;\n",
       "    }\n",
       "\n",
       "    .dataframe thead th {\n",
       "        text-align: right;\n",
       "    }\n",
       "</style>\n",
       "<table border=\"1\" class=\"dataframe\">\n",
       "  <thead>\n",
       "    <tr style=\"text-align: right;\">\n",
       "      <th></th>\n",
       "      <th></th>\n",
       "      <th>x</th>\n",
       "      <th>y</th>\n",
       "      <th>num_similar</th>\n",
       "      <th>total_neighbours</th>\n",
       "    </tr>\n",
       "    <tr>\n",
       "      <th>Step</th>\n",
       "      <th>AgentID</th>\n",
       "      <th></th>\n",
       "      <th></th>\n",
       "      <th></th>\n",
       "      <th></th>\n",
       "    </tr>\n",
       "  </thead>\n",
       "  <tbody>\n",
       "    <tr>\n",
       "      <th rowspan=\"5\" valign=\"top\">0</th>\n",
       "      <th>(0, 1)</th>\n",
       "      <td>19</td>\n",
       "      <td>4</td>\n",
       "      <td>0.0</td>\n",
       "      <td>0.0</td>\n",
       "    </tr>\n",
       "    <tr>\n",
       "      <th>(0, 2)</th>\n",
       "      <td>14</td>\n",
       "      <td>7</td>\n",
       "      <td>0.0</td>\n",
       "      <td>0.0</td>\n",
       "    </tr>\n",
       "    <tr>\n",
       "      <th>(0, 3)</th>\n",
       "      <td>7</td>\n",
       "      <td>16</td>\n",
       "      <td>0.0</td>\n",
       "      <td>0.0</td>\n",
       "    </tr>\n",
       "    <tr>\n",
       "      <th>(0, 4)</th>\n",
       "      <td>0</td>\n",
       "      <td>15</td>\n",
       "      <td>0.0</td>\n",
       "      <td>0.0</td>\n",
       "    </tr>\n",
       "    <tr>\n",
       "      <th>(0, 6)</th>\n",
       "      <td>1</td>\n",
       "      <td>0</td>\n",
       "      <td>0.0</td>\n",
       "      <td>0.0</td>\n",
       "    </tr>\n",
       "    <tr>\n",
       "      <th>...</th>\n",
       "      <th>...</th>\n",
       "      <td>...</td>\n",
       "      <td>...</td>\n",
       "      <td>...</td>\n",
       "      <td>...</td>\n",
       "    </tr>\n",
       "    <tr>\n",
       "      <th rowspan=\"5\" valign=\"top\">6</th>\n",
       "      <th>(19, 14)</th>\n",
       "      <td>6</td>\n",
       "      <td>9</td>\n",
       "      <td>4.0</td>\n",
       "      <td>5.0</td>\n",
       "    </tr>\n",
       "    <tr>\n",
       "      <th>(19, 15)</th>\n",
       "      <td>3</td>\n",
       "      <td>14</td>\n",
       "      <td>5.0</td>\n",
       "      <td>7.0</td>\n",
       "    </tr>\n",
       "    <tr>\n",
       "      <th>(19, 16)</th>\n",
       "      <td>18</td>\n",
       "      <td>5</td>\n",
       "      <td>5.0</td>\n",
       "      <td>5.0</td>\n",
       "    </tr>\n",
       "    <tr>\n",
       "      <th>(19, 18)</th>\n",
       "      <td>8</td>\n",
       "      <td>0</td>\n",
       "      <td>5.0</td>\n",
       "      <td>8.0</td>\n",
       "    </tr>\n",
       "    <tr>\n",
       "      <th>(19, 19)</th>\n",
       "      <td>10</td>\n",
       "      <td>8</td>\n",
       "      <td>3.0</td>\n",
       "      <td>4.0</td>\n",
       "    </tr>\n",
       "  </tbody>\n",
       "</table>\n",
       "<p>2247 rows × 4 columns</p>\n",
       "</div>"
      ],
      "text/plain": [
       "                x   y  num_similar  total_neighbours\n",
       "Step AgentID                                        \n",
       "0    (0, 1)    19   4          0.0               0.0\n",
       "     (0, 2)    14   7          0.0               0.0\n",
       "     (0, 3)     7  16          0.0               0.0\n",
       "     (0, 4)     0  15          0.0               0.0\n",
       "     (0, 6)     1   0          0.0               0.0\n",
       "...            ..  ..          ...               ...\n",
       "6    (19, 14)   6   9          4.0               5.0\n",
       "     (19, 15)   3  14          5.0               7.0\n",
       "     (19, 16)  18   5          5.0               5.0\n",
       "     (19, 18)   8   0          5.0               8.0\n",
       "     (19, 19)  10   8          3.0               4.0\n",
       "\n",
       "[2247 rows x 4 columns]"
      ]
     },
     "execution_count": 15,
     "metadata": {},
     "output_type": "execute_result"
    }
   ],
   "source": [
    "agent_out = model.datacollector.get_agent_vars_dataframe()\n",
    "agent_out"
   ]
  },
  {
   "cell_type": "code",
   "execution_count": 16,
   "id": "timely-georgia",
   "metadata": {
    "slideshow": {
     "slide_type": "subslide"
    }
   },
   "outputs": [
    {
     "data": {
      "image/png": "[encoded data removed]",
      "text/plain": [
       "<Figure size 432x288 with 1 Axes>"
      ]
     },
     "metadata": {
      "needs_background": "light"
     },
     "output_type": "display_data"
    }
   ],
   "source": [
    "sns.lineplot(data=model_out.iloc[1:])\n",
    "plt.show()"
   ]
  },
  {
   "cell_type": "markdown",
   "id": "unlike-conservation",
   "metadata": {
    "slideshow": {
     "slide_type": "slide"
    }
   },
   "source": [
    "MESA has a great functions for creating an interactive environment.\n",
    "\n",
    "I wont get into the details here, but do feel free to [check out MESA advanced tutorial](https://mesa.readthedocs.io/en/master/tutorials/adv_tutorial.html) if you are interested in diving in further."
   ]
  },
  {
   "cell_type": "code",
   "execution_count": 17,
   "id": "diverse-newman",
   "metadata": {
    "slideshow": {
     "slide_type": "subslide"
    }
   },
   "outputs": [],
   "source": [
    "class OutElement(TextElement):\n",
    "    def __init__(self):\n",
    "        pass\n",
    "    \n",
    "    def render(self, model):\n",
    "        return f\"Happy agents: {model.happy()*100:.1f}% \\n Segregation: {model.segregation()*100:.1f}%\"\n",
    "    \n",
    "def schelling_draw(agent):\n",
    "    if agent is None:\n",
    "        return\n",
    "    portrayal = {\"Shape\": \"circle\", \"r\": 0.5, \"Filled\": \"true\", \"Layer\": 0}\n",
    "\n",
    "    if agent.group == 0:\n",
    "        portrayal[\"Color\"] = \"#FF9999\"\n",
    "        portrayal[\"stroke_color\"] = \"#000000\"\n",
    "    else:\n",
    "        portrayal[\"Color\"] = \"#9999FF\"\n",
    "        portrayal[\"stroke_color\"] = \"#000000\"\n",
    "    return portrayal\n",
    "\n",
    "\n",
    "out_element = OutElement()\n",
    "canvas_element = CanvasGrid(schelling_draw, 40, 40, 500, 500)\n",
    "happy_chart = ChartModule([{\"Label\": \"happy\", \"Color\": \"Black\"}], canvas_height=150)\n",
    "\n",
    "\n",
    "model_params = {\n",
    "    \"size\": (40,40),\n",
    "    \"density\": UserSettableParameter(\"slider\", \"Agent density\", 0.8, 0.1, 1.0, 0.05),\n",
    "    \"percent_minority\": UserSettableParameter(\"slider\", \"Percent minority\", 0.5, 0.00, 1.0, 0.05),\n",
    "    \"threshold\": UserSettableParameter(\"slider\", \"Threshold\", 0.3, 0, 1, 0.05)\n",
    "}\n",
    "\n",
    "\n",
    "server = ModularServer(Schelling,\n",
    "                       [canvas_element, out_element, happy_chart],\n",
    "                       \"Schelling\", model_params)"
   ]
  },
  {
   "cell_type": "code",
   "execution_count": 18,
   "id": "occupied-retention",
   "metadata": {
    "slideshow": {
     "slide_type": "subslide"
    }
   },
   "outputs": [
    {
     "name": "stdout",
     "output_type": "stream",
     "text": [
      "Interface starting at http://127.0.0.1:8021\n"
     ]
    },
    {
     "ename": "RuntimeError",
     "evalue": "This event loop is already running",
     "output_type": "error",
     "traceback": [
      "\u001b[1;31m---------------------------------------------------------------------------\u001b[0m",
      "\u001b[1;31mRuntimeError\u001b[0m                              Traceback (most recent call last)",
      "\u001b[1;32m<ipython-input-18-a5632354519a>\u001b[0m in \u001b[0;36m<module>\u001b[1;34m\u001b[0m\n\u001b[0;32m      1\u001b[0m \u001b[0mserver\u001b[0m\u001b[1;33m.\u001b[0m\u001b[0mport\u001b[0m \u001b[1;33m=\u001b[0m \u001b[1;36m8021\u001b[0m \u001b[1;31m# The default\u001b[0m\u001b[1;33m\u001b[0m\u001b[1;33m\u001b[0m\u001b[0m\n\u001b[1;32m----> 2\u001b[1;33m \u001b[0mserver\u001b[0m\u001b[1;33m.\u001b[0m\u001b[0mlaunch\u001b[0m\u001b[1;33m(\u001b[0m\u001b[1;33m)\u001b[0m\u001b[1;33m\u001b[0m\u001b[1;33m\u001b[0m\u001b[0m\n\u001b[0m",
      "\u001b[1;32m~\\AppData\\Local\\Continuum\\miniconda3\\envs\\urbsim\\lib\\site-packages\\mesa\\visualization\\ModularVisualization.py\u001b[0m in \u001b[0;36mlaunch\u001b[1;34m(self, port, open_browser)\u001b[0m\n\u001b[0;32m    335\u001b[0m             \u001b[0mwebbrowser\u001b[0m\u001b[1;33m.\u001b[0m\u001b[0mopen\u001b[0m\u001b[1;33m(\u001b[0m\u001b[0murl\u001b[0m\u001b[1;33m)\u001b[0m\u001b[1;33m\u001b[0m\u001b[1;33m\u001b[0m\u001b[0m\n\u001b[0;32m    336\u001b[0m         \u001b[0mtornado\u001b[0m\u001b[1;33m.\u001b[0m\u001b[0mautoreload\u001b[0m\u001b[1;33m.\u001b[0m\u001b[0mstart\u001b[0m\u001b[1;33m(\u001b[0m\u001b[1;33m)\u001b[0m\u001b[1;33m\u001b[0m\u001b[1;33m\u001b[0m\u001b[0m\n\u001b[1;32m--> 337\u001b[1;33m         \u001b[0mtornado\u001b[0m\u001b[1;33m.\u001b[0m\u001b[0mioloop\u001b[0m\u001b[1;33m.\u001b[0m\u001b[0mIOLoop\u001b[0m\u001b[1;33m.\u001b[0m\u001b[0mcurrent\u001b[0m\u001b[1;33m(\u001b[0m\u001b[1;33m)\u001b[0m\u001b[1;33m.\u001b[0m\u001b[0mstart\u001b[0m\u001b[1;33m(\u001b[0m\u001b[1;33m)\u001b[0m\u001b[1;33m\u001b[0m\u001b[1;33m\u001b[0m\u001b[0m\n\u001b[0m",
      "\u001b[1;32m~\\AppData\\Local\\Continuum\\miniconda3\\envs\\urbsim\\lib\\site-packages\\tornado\\platform\\asyncio.py\u001b[0m in \u001b[0;36mstart\u001b[1;34m(self)\u001b[0m\n\u001b[0;32m    197\u001b[0m             \u001b[0mself\u001b[0m\u001b[1;33m.\u001b[0m\u001b[0m_setup_logging\u001b[0m\u001b[1;33m(\u001b[0m\u001b[1;33m)\u001b[0m\u001b[1;33m\u001b[0m\u001b[1;33m\u001b[0m\u001b[0m\n\u001b[0;32m    198\u001b[0m             \u001b[0masyncio\u001b[0m\u001b[1;33m.\u001b[0m\u001b[0mset_event_loop\u001b[0m\u001b[1;33m(\u001b[0m\u001b[0mself\u001b[0m\u001b[1;33m.\u001b[0m\u001b[0masyncio_loop\u001b[0m\u001b[1;33m)\u001b[0m\u001b[1;33m\u001b[0m\u001b[1;33m\u001b[0m\u001b[0m\n\u001b[1;32m--> 199\u001b[1;33m             \u001b[0mself\u001b[0m\u001b[1;33m.\u001b[0m\u001b[0masyncio_loop\u001b[0m\u001b[1;33m.\u001b[0m\u001b[0mrun_forever\u001b[0m\u001b[1;33m(\u001b[0m\u001b[1;33m)\u001b[0m\u001b[1;33m\u001b[0m\u001b[1;33m\u001b[0m\u001b[0m\n\u001b[0m\u001b[0;32m    200\u001b[0m         \u001b[1;32mfinally\u001b[0m\u001b[1;33m:\u001b[0m\u001b[1;33m\u001b[0m\u001b[1;33m\u001b[0m\u001b[0m\n\u001b[0;32m    201\u001b[0m             \u001b[0masyncio\u001b[0m\u001b[1;33m.\u001b[0m\u001b[0mset_event_loop\u001b[0m\u001b[1;33m(\u001b[0m\u001b[0mold_loop\u001b[0m\u001b[1;33m)\u001b[0m\u001b[1;33m\u001b[0m\u001b[1;33m\u001b[0m\u001b[0m\n",
      "\u001b[1;32m~\\AppData\\Local\\Continuum\\miniconda3\\envs\\urbsim\\lib\\asyncio\\base_events.py\u001b[0m in \u001b[0;36mrun_forever\u001b[1;34m(self)\u001b[0m\n\u001b[0;32m    529\u001b[0m         \u001b[1;34m\"\"\"Run until stop() is called.\"\"\"\u001b[0m\u001b[1;33m\u001b[0m\u001b[1;33m\u001b[0m\u001b[0m\n\u001b[0;32m    530\u001b[0m         \u001b[0mself\u001b[0m\u001b[1;33m.\u001b[0m\u001b[0m_check_closed\u001b[0m\u001b[1;33m(\u001b[0m\u001b[1;33m)\u001b[0m\u001b[1;33m\u001b[0m\u001b[1;33m\u001b[0m\u001b[0m\n\u001b[1;32m--> 531\u001b[1;33m         \u001b[0mself\u001b[0m\u001b[1;33m.\u001b[0m\u001b[0m_check_runnung\u001b[0m\u001b[1;33m(\u001b[0m\u001b[1;33m)\u001b[0m\u001b[1;33m\u001b[0m\u001b[1;33m\u001b[0m\u001b[0m\n\u001b[0m\u001b[0;32m    532\u001b[0m         \u001b[0mself\u001b[0m\u001b[1;33m.\u001b[0m\u001b[0m_set_coroutine_origin_tracking\u001b[0m\u001b[1;33m(\u001b[0m\u001b[0mself\u001b[0m\u001b[1;33m.\u001b[0m\u001b[0m_debug\u001b[0m\u001b[1;33m)\u001b[0m\u001b[1;33m\u001b[0m\u001b[1;33m\u001b[0m\u001b[0m\n\u001b[0;32m    533\u001b[0m         \u001b[0mself\u001b[0m\u001b[1;33m.\u001b[0m\u001b[0m_thread_id\u001b[0m \u001b[1;33m=\u001b[0m \u001b[0mthreading\u001b[0m\u001b[1;33m.\u001b[0m\u001b[0mget_ident\u001b[0m\u001b[1;33m(\u001b[0m\u001b[1;33m)\u001b[0m\u001b[1;33m\u001b[0m\u001b[1;33m\u001b[0m\u001b[0m\n",
      "\u001b[1;32m~\\AppData\\Local\\Continuum\\miniconda3\\envs\\urbsim\\lib\\asyncio\\base_events.py\u001b[0m in \u001b[0;36m_check_runnung\u001b[1;34m(self)\u001b[0m\n\u001b[0;32m    521\u001b[0m     \u001b[1;32mdef\u001b[0m \u001b[0m_check_runnung\u001b[0m\u001b[1;33m(\u001b[0m\u001b[0mself\u001b[0m\u001b[1;33m)\u001b[0m\u001b[1;33m:\u001b[0m\u001b[1;33m\u001b[0m\u001b[1;33m\u001b[0m\u001b[0m\n\u001b[0;32m    522\u001b[0m         \u001b[1;32mif\u001b[0m \u001b[0mself\u001b[0m\u001b[1;33m.\u001b[0m\u001b[0mis_running\u001b[0m\u001b[1;33m(\u001b[0m\u001b[1;33m)\u001b[0m\u001b[1;33m:\u001b[0m\u001b[1;33m\u001b[0m\u001b[1;33m\u001b[0m\u001b[0m\n\u001b[1;32m--> 523\u001b[1;33m             \u001b[1;32mraise\u001b[0m \u001b[0mRuntimeError\u001b[0m\u001b[1;33m(\u001b[0m\u001b[1;34m'This event loop is already running'\u001b[0m\u001b[1;33m)\u001b[0m\u001b[1;33m\u001b[0m\u001b[1;33m\u001b[0m\u001b[0m\n\u001b[0m\u001b[0;32m    524\u001b[0m         \u001b[1;32mif\u001b[0m \u001b[0mevents\u001b[0m\u001b[1;33m.\u001b[0m\u001b[0m_get_running_loop\u001b[0m\u001b[1;33m(\u001b[0m\u001b[1;33m)\u001b[0m \u001b[1;32mis\u001b[0m \u001b[1;32mnot\u001b[0m \u001b[1;32mNone\u001b[0m\u001b[1;33m:\u001b[0m\u001b[1;33m\u001b[0m\u001b[1;33m\u001b[0m\u001b[0m\n\u001b[0;32m    525\u001b[0m             raise RuntimeError(\n",
      "\u001b[1;31mRuntimeError\u001b[0m: This event loop is already running"
     ]
    },
    {
     "name": "stdout",
     "output_type": "stream",
     "text": [
      "Socket opened!\n",
      "{\"type\":\"reset\"}\n",
      "{\"type\":\"get_step\",\"step\":1}\n",
      "{\"type\":\"get_step\",\"step\":2}\n",
      "{\"type\":\"get_step\",\"step\":3}\n",
      "{\"type\":\"get_step\",\"step\":4}\n",
      "{\"type\":\"get_step\",\"step\":5}\n",
      "{\"type\":\"get_step\",\"step\":6}\n",
      "{\"type\":\"get_step\",\"step\":7}\n",
      "{\"type\":\"reset\"}\n"
     ]
    }
   ],
   "source": [
    "server.port = 8021 # The default\n",
    "server.launch()"
   ]
  },
  {
   "cell_type": "markdown",
   "id": "prime-architecture",
   "metadata": {
    "slideshow": {
     "slide_type": "slide"
    }
   },
   "source": [
    "## Analysing results\n",
    "\n",
    "As you can see from the model, even if individual agents do not have a preference for a segregated outcome (are happy to be the minority in the neighbourhood), the aggregate results turn out to be heavily segregated. \n",
    "\n",
    "This is a classic example of emergence of qualitatively different micro-level outcomes from agents following simple rules. \n",
    "\n",
    "---\n",
    "\n",
    "Now, even though the graphical interface can be a useful tool to understand how the model works, check that it's functioning as we would expect, and build intuition about the dynamics at play, we need to understand how the model behaves given different parameters (sensitivity to initial conditions), as well as account for randomness by looking at the average behaviour of multiple runs."
   ]
  },
  {
   "cell_type": "code",
   "execution_count": 19,
   "id": "special-farming",
   "metadata": {
    "slideshow": {
     "slide_type": "subslide"
    }
   },
   "outputs": [],
   "source": [
    "from mesa.batchrunner import BatchRunner"
   ]
  },
  {
   "cell_type": "code",
   "execution_count": 24,
   "id": "stunning-analysis",
   "metadata": {
    "slideshow": {
     "slide_type": "subslide"
    }
   },
   "outputs": [],
   "source": [
    "def get_happy(model):\n",
    "    return model.happy()\n",
    "\n",
    "def number_agents(model):\n",
    "    return model.schedule.get_agent_count()\n",
    "\n",
    "def get_segregation(model):\n",
    "    return model.segregation()"
   ]
  },
  {
   "cell_type": "code",
   "execution_count": 34,
   "id": "greatest-theta",
   "metadata": {
    "slideshow": {
     "slide_type": "subslide"
    }
   },
   "outputs": [
    {
     "name": "stderr",
     "output_type": "stream",
     "text": [
      "380it [00:25, 15.14it/s]\n"
     ]
    }
   ],
   "source": [
    "parameters = {\"size\": [(10,10)], \"density\": [0.8], \"percent_minority\": [0.5], \n",
    "              \"threshold\": [x/100 for x in range(5,100,5)]}\n",
    "\n",
    "model_reporters = {\"segregation\": get_segregation, 'happy': get_happy, 'num_agents': number_agents}\n",
    "\n",
    "param_sweep = BatchRunner(Schelling, variable_parameters= parameters, iterations=20, max_steps=100, model_reporters=model_reporters)\n",
    "\n",
    "param_sweep.run_all()"
   ]
  },
  {
   "cell_type": "code",
   "execution_count": 35,
   "id": "distributed-arbor",
   "metadata": {
    "slideshow": {
     "slide_type": "subslide"
    }
   },
   "outputs": [
    {
     "data": {
      "text/html": [
       "<div>\n",
       "<style scoped>\n",
       "    .dataframe tbody tr th:only-of-type {\n",
       "        vertical-align: middle;\n",
       "    }\n",
       "\n",
       "    .dataframe tbody tr th {\n",
       "        vertical-align: top;\n",
       "    }\n",
       "\n",
       "    .dataframe thead th {\n",
       "        text-align: right;\n",
       "    }\n",
       "</style>\n",
       "<table border=\"1\" class=\"dataframe\">\n",
       "  <thead>\n",
       "    <tr style=\"text-align: right;\">\n",
       "      <th></th>\n",
       "      <th>density</th>\n",
       "      <th>size</th>\n",
       "      <th>percent_minority</th>\n",
       "      <th>threshold</th>\n",
       "      <th>Run</th>\n",
       "      <th>happy</th>\n",
       "      <th>num_agents</th>\n",
       "      <th>segregation</th>\n",
       "    </tr>\n",
       "  </thead>\n",
       "  <tbody>\n",
       "    <tr>\n",
       "      <th>0</th>\n",
       "      <td>(10, 10)</td>\n",
       "      <td>0.8</td>\n",
       "      <td>0.5</td>\n",
       "      <td>0.05</td>\n",
       "      <td>0</td>\n",
       "      <td>1.0</td>\n",
       "      <td>90</td>\n",
       "      <td>0.457646</td>\n",
       "    </tr>\n",
       "    <tr>\n",
       "      <th>1</th>\n",
       "      <td>(10, 10)</td>\n",
       "      <td>0.8</td>\n",
       "      <td>0.5</td>\n",
       "      <td>0.05</td>\n",
       "      <td>1</td>\n",
       "      <td>1.0</td>\n",
       "      <td>77</td>\n",
       "      <td>0.531339</td>\n",
       "    </tr>\n",
       "    <tr>\n",
       "      <th>2</th>\n",
       "      <td>(10, 10)</td>\n",
       "      <td>0.8</td>\n",
       "      <td>0.5</td>\n",
       "      <td>0.05</td>\n",
       "      <td>2</td>\n",
       "      <td>1.0</td>\n",
       "      <td>77</td>\n",
       "      <td>0.501237</td>\n",
       "    </tr>\n",
       "    <tr>\n",
       "      <th>3</th>\n",
       "      <td>(10, 10)</td>\n",
       "      <td>0.8</td>\n",
       "      <td>0.5</td>\n",
       "      <td>0.05</td>\n",
       "      <td>3</td>\n",
       "      <td>1.0</td>\n",
       "      <td>80</td>\n",
       "      <td>0.506607</td>\n",
       "    </tr>\n",
       "    <tr>\n",
       "      <th>4</th>\n",
       "      <td>(10, 10)</td>\n",
       "      <td>0.8</td>\n",
       "      <td>0.5</td>\n",
       "      <td>0.05</td>\n",
       "      <td>4</td>\n",
       "      <td>1.0</td>\n",
       "      <td>77</td>\n",
       "      <td>0.550232</td>\n",
       "    </tr>\n",
       "  </tbody>\n",
       "</table>\n",
       "</div>"
      ],
      "text/plain": [
       "    density  size  percent_minority  threshold  Run  happy  num_agents  \\\n",
       "0  (10, 10)   0.8               0.5       0.05    0    1.0          90   \n",
       "1  (10, 10)   0.8               0.5       0.05    1    1.0          77   \n",
       "2  (10, 10)   0.8               0.5       0.05    2    1.0          77   \n",
       "3  (10, 10)   0.8               0.5       0.05    3    1.0          80   \n",
       "4  (10, 10)   0.8               0.5       0.05    4    1.0          77   \n",
       "\n",
       "   segregation  \n",
       "0     0.457646  \n",
       "1     0.531339  \n",
       "2     0.501237  \n",
       "3     0.506607  \n",
       "4     0.550232  "
      ]
     },
     "execution_count": 35,
     "metadata": {},
     "output_type": "execute_result"
    }
   ],
   "source": [
    "df = param_sweep.get_model_vars_dataframe()\n",
    "df.head()"
   ]
  },
  {
   "cell_type": "code",
   "execution_count": 39,
   "id": "pointed-filing",
   "metadata": {
    "slideshow": {
     "slide_type": "subslide"
    }
   },
   "outputs": [
    {
     "data": {
      "image/png": "[encoded data removed]",
      "text/plain": [
       "<Figure size 864x288 with 1 Axes>"
      ]
     },
     "metadata": {
      "needs_background": "light"
     },
     "output_type": "display_data"
    }
   ],
   "source": [
    "import seaborn as sns\n",
    "\n",
    "fig, ax = plt.subplots(figsize=(12,4))\n",
    "\n",
    "ax =  sns.boxplot(data= df, x = 'threshold', y = 'segregation', color=\".9\")\n",
    "ax = sns.swarmplot(data= df, x = 'threshold', y = 'segregation', color=\".25\", size=3)\n",
    "\n",
    "plt.show()"
   ]
  },
  {
   "cell_type": "code",
   "execution_count": 40,
   "id": "creative-municipality",
   "metadata": {
    "slideshow": {
     "slide_type": "subslide"
    }
   },
   "outputs": [
    {
     "name": "stderr",
     "output_type": "stream",
     "text": [
      "C:\\Users\\malvarez\\AppData\\Local\\Continuum\\miniconda3\\envs\\urbsim\\lib\\site-packages\\seaborn\\categorical.py:1296: UserWarning: 55.0% of the points cannot be placed; you may want to decrease the size of the markers or use stripplot.\n",
      "  warnings.warn(msg, UserWarning)\n",
      "C:\\Users\\malvarez\\AppData\\Local\\Continuum\\miniconda3\\envs\\urbsim\\lib\\site-packages\\seaborn\\categorical.py:1296: UserWarning: 50.0% of the points cannot be placed; you may want to decrease the size of the markers or use stripplot.\n",
      "  warnings.warn(msg, UserWarning)\n"
     ]
    },
    {
     "data": {
      "image/png": "[encoded data removed]",
      "text/plain": [
       "<Figure size 864x288 with 1 Axes>"
      ]
     },
     "metadata": {
      "needs_background": "light"
     },
     "output_type": "display_data"
    }
   ],
   "source": [
    "fig, ax = plt.subplots(figsize=(12,4))\n",
    "ax =  sns.boxplot(data= df, x = 'threshold', y = 'happy', color=\".9\")\n",
    "ax = sns.swarmplot(data= df, x = 'threshold', y = 'happy', color=\".25\", size=3)\n",
    "plt.show()"
   ]
  },
  {
   "cell_type": "markdown",
   "id": "suburban-phrase",
   "metadata": {
    "slideshow": {
     "slide_type": "slide"
    }
   },
   "source": [
    "## Important considerations\n",
    "\n",
    "* Verification: making sure your model does what you think it does\n",
    "* Validation: making sure your model corresponds to the real world in some meaningful way\n",
    "* Replication: making sure your model can be replicated and the results can be repeated\n"
   ]
  },
  {
   "cell_type": "markdown",
   "id": "given-error",
   "metadata": {
    "slideshow": {
     "slide_type": "slide"
    }
   },
   "source": [
    "### Possible extensions to think about in your free time\n",
    "\n",
    "* what happens whe you change the density of the world?\n",
    "* what happens if we add variance to the threshold of each agent?"
   ]
  },
  {
   "cell_type": "markdown",
   "id": "logical-drawing",
   "metadata": {
    "slideshow": {
     "slide_type": "slide"
    }
   },
   "source": [
    "### References\n",
    "\n",
    "* MESA reference: https://mesa.readthedocs.io/en/master/tutorials/intro_tutorial.html#tutorial-description\n",
    "* Original Schelling model paper: https://www.stat.berkeley.edu/~aldous/157/Papers/Schelling_Seg_Models.pdf"
   ]
  }
 ],
 "metadata": {
  "celltoolbar": "Slideshow",
  "kernelspec": {
   "display_name": "urbsim",
   "language": "python",
   "name": "urbsim"
  },
  "language_info": {
   "codemirror_mode": {
    "name": "ipython",
    "version": 3
   },
   "file_extension": ".py",
   "mimetype": "text/x-python",
   "name": "python",
   "nbconvert_exporter": "python",
   "pygments_lexer": "ipython3",
   "version": "3.7.9"
  }
 },
 "nbformat": 4,
 "nbformat_minor": 5
}
