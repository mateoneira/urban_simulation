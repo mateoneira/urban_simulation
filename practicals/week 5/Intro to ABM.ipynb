{
 "cells": [
  {
   "cell_type": "markdown",
   "id": "satisfied-darkness",
   "metadata": {
    "slideshow": {
     "slide_type": "slide"
    }
   },
   "source": [
    "### CASA0002\n",
    "\n",
    "# Urban Simulation\n",
    "***\n",
    "## Agent Based Modelling\n",
    "\n",
    "Mateo Neira\n",
    "***\n",
    "\n",
    "In this lab we will go over a practical implementation of an agent based model in python. We will be using [MESA](https://pypi.org/project/Mesa/), an agent-based modeling framework for python. There are numerous softwares and frameworks for agent-based-modelling, such as NetLogo or Repast, we have decided to show the practical implementation in python as to remain consistant with the rest of the contents of the module. The main objective is to introduce important considerations when running these types of models, and how to analyse results from these. Don't worry too much about the technical aspects of the model implementation, but rather in the concepts and types of analysis \n",
    "\n",
    "For those of you who are interested in setting up your own ABM's, you can check out [MESA's Documentation on specifying a model](https://mesa.readthedocs.io/en/master/tutorials/intro_tutorial.html). "
   ]
  },
  {
   "cell_type": "markdown",
   "id": "controversial-operations",
   "metadata": {},
   "source": [
    "## Resources\n",
    "\n",
    "---\n",
    "\n",
    "* **Online video-course from the Complexity Explorer (Santa Fe Institute)**: [Intro to ABM by William Rand](https://www.complexityexplorer.org/courses/101-introduction-to-agent-based-modeling-spring-2020)\n",
    "* **Agent Based Modeling paper**: [\"Agent Based Modeling and Simulation:\n",
    "An Informatics Perspective\". Stefania Bandini, Sara Manzoni and Giuseppe Vizzari\n",
    "(2009), Journal of Artificial Societies and Social Simulation 12 (4) 4](http://jasss.soc.surrey.ac.uk/12/4/4.html)\n",
    "* **Agent-Based Models and urban form**: [\"Modelling spatial morphologies: Fractal patterns from cellular\n",
    "automata.\". Batty, Michael, and Paul A. Longley. (2014)](https://www.taylorfrancis.com/chapters/modelling-spatial-morphologies-fractal-patterns-cellular-automata-robert-abrahart-linda-see/10.1201/b17091-9)"
   ]
  },
  {
   "cell_type": "markdown",
   "id": "impressed-basis",
   "metadata": {
    "slideshow": {
     "slide_type": "slide"
    }
   },
   "source": [
    "### The Basics of a multi-agent system\n",
    "\n",
    "![](flock.gif)\n",
    "\n",
    "Agent-based models are models of process and allow hetereogeneity (in contrast to mean field or statistical approaches). In these types of models there is no central control, agents are autonomous and can interact with other agents and the environment. Individual behaviours of the agents are aggregated into global mechanisms (for example flocking behaviour).\n",
    "\n",
    "There are two main design strategies for ABM:\n",
    "\n",
    "* **Phenomena-based modelling**: the characteristic patterns that we want to model are known.\n",
    "* **Exploratory modelling**: built using bottom-up approach. We start with a basic set of mechanisms and explore the results\n",
    "\n",
    "In this practical we will be focusing on the latter using  Schelling's model of segregation. The model was developed by the economist Thomas Schelling and is one of the earliest examples of agent-based models, which contain:\n",
    "\n",
    "* Autonomous agents interacting in a shared environment\n",
    "* Emergent global patterns from local interactions and decisions"
   ]
  },
  {
   "cell_type": "markdown",
   "id": "relative-headquarters",
   "metadata": {
    "slideshow": {
     "slide_type": "slide"
    }
   },
   "source": [
    "### Dynamic models of segregation\n",
    "\n",
    "Schelling's Segregation model was proposed in 1971 in his paper [\"Dynamic models of segregation\"](https://www.tandfonline.com/doi/abs/10.1080/0022250X.1971.9989794). The model consists of Agents that can belong to one of two groups (A or B) and occupies a space in a $N \\times N$ grid. Each agent has a preference for how many neighbours must be of its same group for it to be happy. Unhappy agents pick a new random location to relocate until they are happy. The model runs until there are no more unhappy agents. \n",
    "\n",
    "The model demostrates how even mild preferences for similar neighbours can result in high degree of segregation"
   ]
  },
  {
   "cell_type": "markdown",
   "id": "cognitive-cooperation",
   "metadata": {
    "slideshow": {
     "slide_type": "slide"
    }
   },
   "source": [
    "Before getting started we need to install MESA into our environment. We can do this directly from jupyter notebook by using the magic command '!'  and providing '-y' to specify yes to the install prompt as you can not submit input to the commands when running.\n",
    "\n",
    "> ! conda install mesa -y\n",
    "\n",
    "The installation should be fairly quick, as the framework is not to heavy and has few dependencies."
   ]
  },
  {
   "cell_type": "code",
   "execution_count": null,
   "id": "marked-timber",
   "metadata": {
    "slideshow": {
     "slide_type": "subslide"
    }
   },
   "outputs": [],
   "source": [
    "!conda install mesa -y"
   ]
  },
  {
   "cell_type": "code",
   "execution_count": 1,
   "id": "variable-architect",
   "metadata": {
    "slideshow": {
     "slide_type": "slide"
    }
   },
   "outputs": [],
   "source": [
    "#now that we have mesa installed we can import the required components\n",
    "from mesa import Agent, Model #class for specifying agents and model\n",
    "from mesa.space import SingleGrid \n",
    "from mesa.time import RandomActivation\n",
    "from mesa.datacollection import DataCollector\n",
    "\n",
    "#for visualization purposes\n",
    "from mesa.visualization.ModularVisualization import ModularServer \n",
    "from mesa.visualization.modules import CanvasGrid, ChartModule, TextElement\n",
    "from mesa.visualization.UserParam import UserSettableParameter\n",
    "import seaborn as sns"
   ]
  },
  {
   "cell_type": "markdown",
   "id": "induced-space",
   "metadata": {
    "slideshow": {
     "slide_type": "slide"
    }
   },
   "source": [
    "## Setting up the model\n",
    "\n",
    "We will be using the two core classes that we imported previously: \n",
    "* **Agent**: which specifies the agents\n",
    "* **Model**: which holds model-level attributes and manages the agents\n",
    "\n",
    "The **Model** will be specified by:\n",
    "* size of world given by a height and a width\n",
    "* population density\n",
    "* agent threshold which defines how many similar neighbours are required for the agents to be happy\n",
    "* percentage of minority group"
   ]
  },
  {
   "cell_type": "markdown",
   "id": "voluntary-property",
   "metadata": {
    "slideshow": {
     "slide_type": "slide"
    }
   },
   "source": [
    "## The Agents\n",
    "\n",
    "We will start by specifing the agents in our model. We will do this by creating our own agents class that will inheret from the Agents class from the MESA library. \n",
    "\n",
    "We need our agents to have two variables:\n",
    "* position: this will be the x,y coordinates related to the location of the agent in our grid world.\n",
    "* group: each agent can belong to one of two groups (1,0)\n",
    "\n",
    "And we need our agents to be able to do three things:\n",
    "* check what group their neighbours belong to.\n",
    "* determine if they are happy with their location\n",
    "* move to an empty cell if they are not happy"
   ]
  },
  {
   "cell_type": "code",
   "execution_count": 2,
   "id": "laughing-appraisal",
   "metadata": {
    "slideshow": {
     "slide_type": "subslide"
    }
   },
   "outputs": [],
   "source": [
    "class SchellingAgent(Agent):\n",
    "    \"\"\"\n",
    "    here we define the parameters that the agent will have\n",
    "    each agent will have a position which specifies its location in the grid\n",
    "    and a type, which specifies which group it belongs to\n",
    "    \"\"\"\n",
    "    def __init__(self, pos, model, group):\n",
    "        super().__init__(pos, model)\n",
    "        self.pos = pos\n",
    "        self.group = group\n",
    "    \n",
    "    def step(self):\n",
    "        \"\"\"\n",
    "        here we specify what each agent does in each model iteration\n",
    "        essentially its a function that calculates number of similar neighbours\n",
    "        moves the agent to a different empty location if the number of similar neighbours is bellow its treshold\n",
    "        \"\"\"\n",
    "\n",
    "        #calculate number of similar neighbours\n",
    "        similar = 0\n",
    "        for neighbour in self.model.grid.neighbor_iter(self.pos):\n",
    "            if neighbour.group == self.group:\n",
    "                similar +=1\n",
    "        \n",
    "        #check if number of similar neighbours is bellow threshold\n",
    "        if similar < self.model.threshold:\n",
    "            #move agent to empty grid\n",
    "            self.model.grid.move_to_empty(self)\n",
    "        else:\n",
    "            #report happy agent to model\n",
    "            self.model.happy +=1"
   ]
  },
  {
   "cell_type": "markdown",
   "id": "checked-weapon",
   "metadata": {
    "slideshow": {
     "slide_type": "slide"
    }
   },
   "source": [
    "## The Model\n",
    "\n",
    "The model is a little bit more complicated to setup as it is composed of three different components:\n",
    "* **space**: the world were the agents will live\n",
    "* **agents**: the agents that occupy the world\n",
    "* **scheduler**: how the agents update their states "
   ]
  },
  {
   "cell_type": "markdown",
   "id": "elementary-relaxation",
   "metadata": {
    "slideshow": {
     "slide_type": "subslide"
    }
   },
   "source": [
    "### Space\n",
    "\n",
    "There are different types of spaces:\n",
    "\n",
    "* Continuous spaces: here each agent can occupy any arbitrary position, neighbours are defined according to distances betweeen agents (radius)\n",
    "\n",
    "* Discrete spaces: each agent can occupy only specific places on the space (for example a cell in a grid). Neighbours are defined by adjacency in the discrete space.\n",
    "    * Grid space\n",
    "    * Network space\n",
    "\n",
    "Each one of these types can also have different topologies. The topology of a space essentially defines how neighbours are defined at the 'borders' of the space.\n",
    "* Finite/infine planar spaces: cartesian spaces of any dimension\n",
    "* Toroidal space\n",
    "* Spherical space\n",
    "\n",
    "In our Schelling model we will be using a discrete toroidal space. We can easily do this with MESA:\n",
    "\n",
    "```python\n",
    "from mesa.space import SingleGrid\n",
    "grid = SingleGrid(size[0], size[1], torus=True)\n",
    "```"
   ]
  },
  {
   "cell_type": "markdown",
   "id": "confidential-summer",
   "metadata": {
    "slideshow": {
     "slide_type": "subslide"
    }
   },
   "source": [
    "### Scheduler\n",
    "\n",
    "Time in most agent-based models moves in steps, sometimes also called ticks. At each time step agents are activated, take actions, or change internal states. How agents are activated at each time step is an important design decision when specifing our models. The scheduler takes care of this task.\n",
    "\n",
    "schedueler handles how agents update their states.\n",
    "* synchronous: all agents update their state at the same time \n",
    "* asynchronous: agents update sequentially, of at different times\n",
    "\n",
    "\n",
    "In our case we will be updating the agents asynchronously\n",
    "```python\n",
    "from mesa.time import RandomActivation\n",
    "\n",
    "schedule = RandomActivation(model)\n",
    "```"
   ]
  },
  {
   "cell_type": "code",
   "execution_count": 3,
   "id": "quarterly-information",
   "metadata": {
    "slideshow": {
     "slide_type": "subslide"
    }
   },
   "outputs": [],
   "source": [
    "# we put this all together in our model class\n",
    "#similar to agents, we inheret from mesa.Model class\n",
    "class Schelling(Model):\n",
    "    def __init__(self, size, density, percent_minority, threshold):\n",
    "        #setup initial variables\n",
    "        self.size =  size\n",
    "        self.density = density\n",
    "        self.percent_minority = percent_minority\n",
    "        self.threshold = threshold\n",
    "        \n",
    "        #create grid\n",
    "        self.grid = SingleGrid(size[0], size[1], torus=True)\n",
    "        \n",
    "        #create schedueler to manage agents\n",
    "        self.schedule = RandomActivation(self)\n",
    "        \n",
    "        #setup the data collector to gather information about all agents\n",
    "        self.happy = 0\n",
    "        self.datacollector = DataCollector(\n",
    "            {'happy': 'happy'},\n",
    "            {'x': lambda a: a.pos[0], 'y': lambda a: a.pos[1]}\n",
    "        )\n",
    "        \n",
    "        #setup agents\n",
    "        for cell in self.grid.coord_iter():\n",
    "            #each sell is a tuple with 3 values (agent, x, y)\n",
    "            x = cell[1]\n",
    "            y = cell[2]\n",
    "            \n",
    "            #add agents according to density\n",
    "            if self.random.random() < self.density:\n",
    "                if self.random.random() < self.percent_minority:\n",
    "                    agent_group = 1\n",
    "                else:\n",
    "                    agent_group = 0 \n",
    "            \n",
    "                #initiate an agent at position in grid\n",
    "                agent = SchellingAgent((x,y), self, agent_group)\n",
    "                \n",
    "                #add agent to grid\n",
    "                self.grid.position_agent(agent, (x,y))\n",
    "                \n",
    "                #add agent to scheduler\n",
    "                self.schedule.add(agent)\n",
    "            \n",
    "        self.running = True\n",
    "        self.datacollector.collect(self)\n",
    "        \n",
    "    def step(self):\n",
    "        self.happy = 0\n",
    "        self.schedule.step()\n",
    "        \n",
    "        self.datacollector.collect(self)\n",
    "        \n",
    "        if self.happy == self.schedule.get_agent_count():\n",
    "            self.running = False        "
   ]
  },
  {
   "cell_type": "markdown",
   "id": "minus-doctor",
   "metadata": {
    "slideshow": {
     "slide_type": "slide"
    }
   },
   "source": [
    "Now thats our model! \n",
    "\n",
    "we can run this quickly and see if its all working \n",
    "\n",
    "```python\n",
    "model = Schelling((10,10), 0.8,0.2,3)\n",
    "```"
   ]
  },
  {
   "cell_type": "code",
   "execution_count": 4,
   "id": "legendary-rocket",
   "metadata": {
    "slideshow": {
     "slide_type": "subslide"
    }
   },
   "outputs": [
    {
     "name": "stdout",
     "output_type": "stream",
     "text": [
      "59\n"
     ]
    }
   ],
   "source": [
    "#we instantiate our model with the parameters of interest \n",
    "model = Schelling((10,10), 0.8,0.2,3)\n",
    "\n",
    "#we run our model\n",
    "#notice we run it in a while loop\n",
    "#this is because in some cases, our model may not converge\n",
    "#(no matter how long we run the model, not all agents will ever be happy!)\n",
    "\n",
    "while model.running and model.schedule.steps < 100:\n",
    "    model.step()\n",
    "print(model.schedule.steps) # Show how many steps have actually run"
   ]
  },
  {
   "cell_type": "code",
   "execution_count": 5,
   "id": "suspected-hearts",
   "metadata": {
    "slideshow": {
     "slide_type": "subslide"
    }
   },
   "outputs": [
    {
     "name": "stdout",
     "output_type": "stream",
     "text": [
      "75 agents\n",
      "of which 75 are happy\n",
      "total segregation: 0.5066666666666667\n"
     ]
    }
   ],
   "source": [
    "#we can call the model to get outputs\n",
    "total_agents = model.schedule.get_agent_count()\n",
    "total_happy = model.happy\n",
    "\n",
    "#how segregated is our world?\n",
    "def get_segregation(model):\n",
    "    '''\n",
    "    Find the % of agents that only have neighbors of their same type.\n",
    "    '''\n",
    "    segregated_agents = 0\n",
    "    for agent in model.schedule.agents:\n",
    "        segregated = True\n",
    "        for neighbor in model.grid.neighbor_iter(agent.pos):\n",
    "            if neighbor.group != agent.group:\n",
    "                segregated = False\n",
    "                break\n",
    "        if segregated:\n",
    "            segregated_agents += 1\n",
    "    return segregated_agents / model.schedule.get_agent_count()\n",
    "\n",
    "segregation = get_segregation(model)\n",
    "\n",
    "print(f'{total_agents} agents')\n",
    "print(f'of which {total_happy} are happy')\n",
    "print(f'total segregation: {segregation}')"
   ]
  },
  {
   "cell_type": "code",
   "execution_count": 6,
   "id": "precious-essence",
   "metadata": {
    "slideshow": {
     "slide_type": "subslide"
    }
   },
   "outputs": [
    {
     "data": {
      "text/html": [
       "<div>\n",
       "<style scoped>\n",
       "    .dataframe tbody tr th:only-of-type {\n",
       "        vertical-align: middle;\n",
       "    }\n",
       "\n",
       "    .dataframe tbody tr th {\n",
       "        vertical-align: top;\n",
       "    }\n",
       "\n",
       "    .dataframe thead th {\n",
       "        text-align: right;\n",
       "    }\n",
       "</style>\n",
       "<table border=\"1\" class=\"dataframe\">\n",
       "  <thead>\n",
       "    <tr style=\"text-align: right;\">\n",
       "      <th></th>\n",
       "      <th>happy</th>\n",
       "    </tr>\n",
       "  </thead>\n",
       "  <tbody>\n",
       "    <tr>\n",
       "      <th>0</th>\n",
       "      <td>0</td>\n",
       "    </tr>\n",
       "    <tr>\n",
       "      <th>1</th>\n",
       "      <td>55</td>\n",
       "    </tr>\n",
       "    <tr>\n",
       "      <th>2</th>\n",
       "      <td>60</td>\n",
       "    </tr>\n",
       "    <tr>\n",
       "      <th>3</th>\n",
       "      <td>66</td>\n",
       "    </tr>\n",
       "    <tr>\n",
       "      <th>4</th>\n",
       "      <td>66</td>\n",
       "    </tr>\n",
       "  </tbody>\n",
       "</table>\n",
       "</div>"
      ],
      "text/plain": [
       "   happy\n",
       "0      0\n",
       "1     55\n",
       "2     60\n",
       "3     66\n",
       "4     66"
      ]
     },
     "execution_count": 6,
     "metadata": {},
     "output_type": "execute_result"
    }
   ],
   "source": [
    "model_out = model.datacollector.get_model_vars_dataframe()\n",
    "model_out.head()"
   ]
  },
  {
   "cell_type": "code",
   "execution_count": 7,
   "id": "imposed-preference",
   "metadata": {
    "slideshow": {
     "slide_type": "subslide"
    }
   },
   "outputs": [
    {
     "data": {
      "text/plain": [
       "<AxesSubplot:>"
      ]
     },
     "execution_count": 7,
     "metadata": {},
     "output_type": "execute_result"
    },
    {
     "data": {
      "image/png": "[encoded data removed]",
      "text/plain": [
       "<Figure size 432x288 with 1 Axes>"
      ]
     },
     "metadata": {
      "needs_background": "light"
     },
     "output_type": "display_data"
    }
   ],
   "source": [
    "sns.lineplot(data=model_out)"
   ]
  },
  {
   "cell_type": "markdown",
   "id": "fleet-pavilion",
   "metadata": {
    "slideshow": {
     "slide_type": "slide"
    }
   },
   "source": [
    "MESA has a great functions for creating an interactive environment.\n",
    "\n",
    "I wont get into the details here, but do feel free to [check out MESA advanced tutorial](https://mesa.readthedocs.io/en/master/tutorials/adv_tutorial.html) if you are interested in diving in further."
   ]
  },
  {
   "cell_type": "code",
   "execution_count": 15,
   "id": "downtown-portal",
   "metadata": {
    "slideshow": {
     "slide_type": "subslide"
    }
   },
   "outputs": [],
   "source": [
    "class OutElement(TextElement):\n",
    "    def __init__(self):\n",
    "        pass\n",
    "    \n",
    "    def render(self, model):\n",
    "        return f\"Happy agents: {model.happy} \\n Segregation: {get_segregation(model):.2f}\"\n",
    "    \n",
    "def schelling_draw(agent):\n",
    "    if agent is None:\n",
    "        return\n",
    "    portrayal = {\"Shape\": \"circle\", \"r\": 0.5, \"Filled\": \"true\", \"Layer\": 0}\n",
    "\n",
    "    if agent.group == 0:\n",
    "        portrayal[\"Color\"] = \"#FF9999\"\n",
    "        portrayal[\"stroke_color\"] = \"#000000\"\n",
    "    else:\n",
    "        portrayal[\"Color\"] = \"#9999FF\"\n",
    "        portrayal[\"stroke_color\"] = \"#000000\"\n",
    "    return portrayal\n",
    "\n",
    "\n",
    "out_element = OutElement()\n",
    "canvas_element = CanvasGrid(schelling_draw, 40, 40, 500, 500)\n",
    "happy_chart = ChartModule([{\"Label\": \"happy\", \"Color\": \"Black\"}], canvas_height=150)\n",
    "\n",
    "\n",
    "model_params = {\n",
    "    \"size\": (40,40),\n",
    "    \"density\": UserSettableParameter(\"slider\", \"Agent density\", 0.8, 0.1, 1.0, 0.1),\n",
    "    \"percent_minority\": UserSettableParameter(\"slider\", \"Percent minority\", 0.2, 0.00, 1.0, 0.05),\n",
    "    \"threshold\": UserSettableParameter(\"slider\", \"Threshold\", 3, 0, 8, 1)\n",
    "}\n",
    "\n",
    "\n",
    "server = ModularServer(Schelling,\n",
    "                       [canvas_element, out_element, happy_chart],\n",
    "                       \"Schelling\", model_params)"
   ]
  },
  {
   "cell_type": "code",
   "execution_count": 17,
   "id": "exact-funds",
   "metadata": {
    "slideshow": {
     "slide_type": "subslide"
    }
   },
   "outputs": [
    {
     "name": "stdout",
     "output_type": "stream",
     "text": [
      "Interface starting at http://127.0.0.1:8221\n"
     ]
    },
    {
     "ename": "RuntimeError",
     "evalue": "This event loop is already running",
     "output_type": "error",
     "traceback": [
      "\u001b[1;31m---------------------------------------------------------------------------\u001b[0m",
      "\u001b[1;31mRuntimeError\u001b[0m                              Traceback (most recent call last)",
      "\u001b[1;32m<ipython-input-17-c56dd1482acc>\u001b[0m in \u001b[0;36m<module>\u001b[1;34m\u001b[0m\n\u001b[0;32m      1\u001b[0m \u001b[0mserver\u001b[0m\u001b[1;33m.\u001b[0m\u001b[0mport\u001b[0m \u001b[1;33m=\u001b[0m \u001b[1;36m8221\u001b[0m \u001b[1;31m# The default\u001b[0m\u001b[1;33m\u001b[0m\u001b[1;33m\u001b[0m\u001b[0m\n\u001b[1;32m----> 2\u001b[1;33m \u001b[0mserver\u001b[0m\u001b[1;33m.\u001b[0m\u001b[0mlaunch\u001b[0m\u001b[1;33m(\u001b[0m\u001b[1;33m)\u001b[0m\u001b[1;33m\u001b[0m\u001b[1;33m\u001b[0m\u001b[0m\n\u001b[0m",
      "\u001b[1;32m~\\AppData\\Local\\Continuum\\miniconda3\\envs\\urbsim\\lib\\site-packages\\mesa\\visualization\\ModularVisualization.py\u001b[0m in \u001b[0;36mlaunch\u001b[1;34m(self, port, open_browser)\u001b[0m\n\u001b[0;32m    335\u001b[0m             \u001b[0mwebbrowser\u001b[0m\u001b[1;33m.\u001b[0m\u001b[0mopen\u001b[0m\u001b[1;33m(\u001b[0m\u001b[0murl\u001b[0m\u001b[1;33m)\u001b[0m\u001b[1;33m\u001b[0m\u001b[1;33m\u001b[0m\u001b[0m\n\u001b[0;32m    336\u001b[0m         \u001b[0mtornado\u001b[0m\u001b[1;33m.\u001b[0m\u001b[0mautoreload\u001b[0m\u001b[1;33m.\u001b[0m\u001b[0mstart\u001b[0m\u001b[1;33m(\u001b[0m\u001b[1;33m)\u001b[0m\u001b[1;33m\u001b[0m\u001b[1;33m\u001b[0m\u001b[0m\n\u001b[1;32m--> 337\u001b[1;33m         \u001b[0mtornado\u001b[0m\u001b[1;33m.\u001b[0m\u001b[0mioloop\u001b[0m\u001b[1;33m.\u001b[0m\u001b[0mIOLoop\u001b[0m\u001b[1;33m.\u001b[0m\u001b[0mcurrent\u001b[0m\u001b[1;33m(\u001b[0m\u001b[1;33m)\u001b[0m\u001b[1;33m.\u001b[0m\u001b[0mstart\u001b[0m\u001b[1;33m(\u001b[0m\u001b[1;33m)\u001b[0m\u001b[1;33m\u001b[0m\u001b[1;33m\u001b[0m\u001b[0m\n\u001b[0m",
      "\u001b[1;32m~\\AppData\\Local\\Continuum\\miniconda3\\envs\\urbsim\\lib\\site-packages\\tornado\\platform\\asyncio.py\u001b[0m in \u001b[0;36mstart\u001b[1;34m(self)\u001b[0m\n\u001b[0;32m    197\u001b[0m             \u001b[0mself\u001b[0m\u001b[1;33m.\u001b[0m\u001b[0m_setup_logging\u001b[0m\u001b[1;33m(\u001b[0m\u001b[1;33m)\u001b[0m\u001b[1;33m\u001b[0m\u001b[1;33m\u001b[0m\u001b[0m\n\u001b[0;32m    198\u001b[0m             \u001b[0masyncio\u001b[0m\u001b[1;33m.\u001b[0m\u001b[0mset_event_loop\u001b[0m\u001b[1;33m(\u001b[0m\u001b[0mself\u001b[0m\u001b[1;33m.\u001b[0m\u001b[0masyncio_loop\u001b[0m\u001b[1;33m)\u001b[0m\u001b[1;33m\u001b[0m\u001b[1;33m\u001b[0m\u001b[0m\n\u001b[1;32m--> 199\u001b[1;33m             \u001b[0mself\u001b[0m\u001b[1;33m.\u001b[0m\u001b[0masyncio_loop\u001b[0m\u001b[1;33m.\u001b[0m\u001b[0mrun_forever\u001b[0m\u001b[1;33m(\u001b[0m\u001b[1;33m)\u001b[0m\u001b[1;33m\u001b[0m\u001b[1;33m\u001b[0m\u001b[0m\n\u001b[0m\u001b[0;32m    200\u001b[0m         \u001b[1;32mfinally\u001b[0m\u001b[1;33m:\u001b[0m\u001b[1;33m\u001b[0m\u001b[1;33m\u001b[0m\u001b[0m\n\u001b[0;32m    201\u001b[0m             \u001b[0masyncio\u001b[0m\u001b[1;33m.\u001b[0m\u001b[0mset_event_loop\u001b[0m\u001b[1;33m(\u001b[0m\u001b[0mold_loop\u001b[0m\u001b[1;33m)\u001b[0m\u001b[1;33m\u001b[0m\u001b[1;33m\u001b[0m\u001b[0m\n",
      "\u001b[1;32m~\\AppData\\Local\\Continuum\\miniconda3\\envs\\urbsim\\lib\\asyncio\\base_events.py\u001b[0m in \u001b[0;36mrun_forever\u001b[1;34m(self)\u001b[0m\n\u001b[0;32m    529\u001b[0m         \u001b[1;34m\"\"\"Run until stop() is called.\"\"\"\u001b[0m\u001b[1;33m\u001b[0m\u001b[1;33m\u001b[0m\u001b[0m\n\u001b[0;32m    530\u001b[0m         \u001b[0mself\u001b[0m\u001b[1;33m.\u001b[0m\u001b[0m_check_closed\u001b[0m\u001b[1;33m(\u001b[0m\u001b[1;33m)\u001b[0m\u001b[1;33m\u001b[0m\u001b[1;33m\u001b[0m\u001b[0m\n\u001b[1;32m--> 531\u001b[1;33m         \u001b[0mself\u001b[0m\u001b[1;33m.\u001b[0m\u001b[0m_check_runnung\u001b[0m\u001b[1;33m(\u001b[0m\u001b[1;33m)\u001b[0m\u001b[1;33m\u001b[0m\u001b[1;33m\u001b[0m\u001b[0m\n\u001b[0m\u001b[0;32m    532\u001b[0m         \u001b[0mself\u001b[0m\u001b[1;33m.\u001b[0m\u001b[0m_set_coroutine_origin_tracking\u001b[0m\u001b[1;33m(\u001b[0m\u001b[0mself\u001b[0m\u001b[1;33m.\u001b[0m\u001b[0m_debug\u001b[0m\u001b[1;33m)\u001b[0m\u001b[1;33m\u001b[0m\u001b[1;33m\u001b[0m\u001b[0m\n\u001b[0;32m    533\u001b[0m         \u001b[0mself\u001b[0m\u001b[1;33m.\u001b[0m\u001b[0m_thread_id\u001b[0m \u001b[1;33m=\u001b[0m \u001b[0mthreading\u001b[0m\u001b[1;33m.\u001b[0m\u001b[0mget_ident\u001b[0m\u001b[1;33m(\u001b[0m\u001b[1;33m)\u001b[0m\u001b[1;33m\u001b[0m\u001b[1;33m\u001b[0m\u001b[0m\n",
      "\u001b[1;32m~\\AppData\\Local\\Continuum\\miniconda3\\envs\\urbsim\\lib\\asyncio\\base_events.py\u001b[0m in \u001b[0;36m_check_runnung\u001b[1;34m(self)\u001b[0m\n\u001b[0;32m    521\u001b[0m     \u001b[1;32mdef\u001b[0m \u001b[0m_check_runnung\u001b[0m\u001b[1;33m(\u001b[0m\u001b[0mself\u001b[0m\u001b[1;33m)\u001b[0m\u001b[1;33m:\u001b[0m\u001b[1;33m\u001b[0m\u001b[1;33m\u001b[0m\u001b[0m\n\u001b[0;32m    522\u001b[0m         \u001b[1;32mif\u001b[0m \u001b[0mself\u001b[0m\u001b[1;33m.\u001b[0m\u001b[0mis_running\u001b[0m\u001b[1;33m(\u001b[0m\u001b[1;33m)\u001b[0m\u001b[1;33m:\u001b[0m\u001b[1;33m\u001b[0m\u001b[1;33m\u001b[0m\u001b[0m\n\u001b[1;32m--> 523\u001b[1;33m             \u001b[1;32mraise\u001b[0m \u001b[0mRuntimeError\u001b[0m\u001b[1;33m(\u001b[0m\u001b[1;34m'This event loop is already running'\u001b[0m\u001b[1;33m)\u001b[0m\u001b[1;33m\u001b[0m\u001b[1;33m\u001b[0m\u001b[0m\n\u001b[0m\u001b[0;32m    524\u001b[0m         \u001b[1;32mif\u001b[0m \u001b[0mevents\u001b[0m\u001b[1;33m.\u001b[0m\u001b[0m_get_running_loop\u001b[0m\u001b[1;33m(\u001b[0m\u001b[1;33m)\u001b[0m \u001b[1;32mis\u001b[0m \u001b[1;32mnot\u001b[0m \u001b[1;32mNone\u001b[0m\u001b[1;33m:\u001b[0m\u001b[1;33m\u001b[0m\u001b[1;33m\u001b[0m\u001b[0m\n\u001b[0;32m    525\u001b[0m             raise RuntimeError(\n",
      "\u001b[1;31mRuntimeError\u001b[0m: This event loop is already running"
     ]
    },
    {
     "name": "stdout",
     "output_type": "stream",
     "text": [
      "Socket opened!\n",
      "{\"type\":\"reset\"}\n",
      "{\"type\":\"submit_params\",\"param\":\"density\",\"value\":0.7}\n",
      "{\"type\":\"submit_params\",\"param\":\"density\",\"value\":0.6}\n",
      "{\"type\":\"submit_params\",\"param\":\"density\",\"value\":0.5}\n",
      "{\"type\":\"submit_params\",\"param\":\"density\",\"value\":0.4}\n",
      "{\"type\":\"submit_params\",\"param\":\"density\",\"value\":0.5}\n",
      "{\"type\":\"submit_params\",\"param\":\"density\",\"value\":0.6}\n",
      "{\"type\":\"submit_params\",\"param\":\"density\",\"value\":0.7}\n",
      "{\"type\":\"submit_params\",\"param\":\"percent_minority\",\"value\":0.25}\n",
      "{\"type\":\"submit_params\",\"param\":\"percent_minority\",\"value\":0.3}\n",
      "{\"type\":\"submit_params\",\"param\":\"percent_minority\",\"value\":0.35}\n",
      "{\"type\":\"submit_params\",\"param\":\"percent_minority\",\"value\":0.5}\n",
      "{\"type\":\"submit_params\",\"param\":\"percent_minority\",\"value\":0.6}\n",
      "{\"type\":\"submit_params\",\"param\":\"percent_minority\",\"value\":0.7}\n",
      "{\"type\":\"submit_params\",\"param\":\"percent_minority\",\"value\":0.6}\n",
      "{\"type\":\"submit_params\",\"param\":\"percent_minority\",\"value\":0.5}\n",
      "{\"type\":\"submit_params\",\"param\":\"percent_minority\",\"value\":0.45}\n",
      "{\"type\":\"submit_params\",\"param\":\"percent_minority\",\"value\":0.4}\n",
      "{\"type\":\"submit_params\",\"param\":\"percent_minority\",\"value\":0.5}\n",
      "{\"type\":\"submit_params\",\"param\":\"percent_minority\",\"value\":0.6}\n",
      "{\"type\":\"submit_params\",\"param\":\"percent_minority\",\"value\":0.7}\n",
      "{\"type\":\"submit_params\",\"param\":\"percent_minority\",\"value\":0.65}\n",
      "{\"type\":\"submit_params\",\"param\":\"percent_minority\",\"value\":0.55}\n",
      "{\"type\":\"submit_params\",\"param\":\"percent_minority\",\"value\":0.4}\n",
      "{\"type\":\"submit_params\",\"param\":\"percent_minority\",\"value\":0.25}\n",
      "{\"type\":\"submit_params\",\"param\":\"percent_minority\",\"value\":0.2}\n",
      "{\"type\":\"submit_params\",\"param\":\"percent_minority\",\"value\":0.25}\n",
      "{\"type\":\"submit_params\",\"param\":\"percent_minority\",\"value\":0.3}\n",
      "{\"type\":\"submit_params\",\"param\":\"percent_minority\",\"value\":0.4}\n",
      "{\"type\":\"submit_params\",\"param\":\"threshold\",\"value\":4}\n",
      "{\"type\":\"submit_params\",\"param\":\"threshold\",\"value\":3}\n",
      "{\"type\":\"submit_params\",\"param\":\"threshold\",\"value\":2}\n",
      "{\"type\":\"submit_params\",\"param\":\"threshold\",\"value\":3}\n",
      "{\"type\":\"submit_params\",\"param\":\"threshold\",\"value\":4}\n",
      "{\"type\":\"submit_params\",\"param\":\"threshold\",\"value\":3}\n",
      "{\"type\":\"submit_params\",\"param\":\"threshold\",\"value\":4}\n",
      "{\"type\":\"submit_params\",\"param\":\"threshold\",\"value\":3}\n",
      "{\"type\":\"reset\"}\n",
      "{\"type\":\"get_step\",\"step\":1}\n",
      "{\"type\":\"get_step\",\"step\":2}\n",
      "{\"type\":\"get_step\",\"step\":3}\n",
      "{\"type\":\"get_step\",\"step\":4}\n",
      "{\"type\":\"get_step\",\"step\":5}\n",
      "{\"type\":\"get_step\",\"step\":6}\n",
      "{\"type\":\"get_step\",\"step\":7}\n",
      "{\"type\":\"get_step\",\"step\":8}\n",
      "{\"type\":\"get_step\",\"step\":9}\n",
      "{\"type\":\"get_step\",\"step\":10}\n",
      "{\"type\":\"get_step\",\"step\":11}\n",
      "{\"type\":\"get_step\",\"step\":12}\n",
      "{\"type\":\"get_step\",\"step\":13}\n",
      "{\"type\":\"get_step\",\"step\":14}\n",
      "{\"type\":\"get_step\",\"step\":15}\n",
      "{\"type\":\"get_step\",\"step\":16}\n",
      "{\"type\":\"get_step\",\"step\":17}\n",
      "{\"type\":\"get_step\",\"step\":18}\n",
      "{\"type\":\"get_step\",\"step\":19}\n",
      "{\"type\":\"get_step\",\"step\":20}\n",
      "{\"type\":\"get_step\",\"step\":21}\n",
      "{\"type\":\"get_step\",\"step\":22}\n",
      "{\"type\":\"get_step\",\"step\":23}\n",
      "{\"type\":\"get_step\",\"step\":24}\n",
      "{\"type\":\"get_step\",\"step\":25}\n"
     ]
    }
   ],
   "source": [
    "server.port = 8221 # The default\n",
    "server.launch()"
   ]
  },
  {
   "cell_type": "markdown",
   "id": "bored-influence",
   "metadata": {
    "slideshow": {
     "slide_type": "slide"
    }
   },
   "source": [
    "## Analysing results\n",
    "\n",
    "As you can see from the model, even if individual agents do not have a preference for a segregated outcome (are happy to be the minority in the neighbourhood), the aggregate results turn out to be heavily segregated. \n",
    "\n",
    "This is a classic example of emergence of qualitatively different micro-level outcomes from agents following simple rules. \n",
    "\n",
    "---\n",
    "\n",
    "Now, even though the graphical interface can be a useful tool to understand how the model works, check that it's functioning as we would expect, and build intuition about the dynamics at play, we need to understand how the model behaves given different parameters (sensitivity to initial conditions), as well as account for randomness by looking at the average behaviour of multiple runs."
   ]
  },
  {
   "cell_type": "code",
   "execution_count": 18,
   "id": "particular-tournament",
   "metadata": {
    "slideshow": {
     "slide_type": "subslide"
    }
   },
   "outputs": [],
   "source": [
    "from mesa.batchrunner import BatchRunner"
   ]
  },
  {
   "cell_type": "code",
   "execution_count": 19,
   "id": "relevant-found",
   "metadata": {
    "slideshow": {
     "slide_type": "subslide"
    }
   },
   "outputs": [],
   "source": [
    "def get_happy(model):\n",
    "    return model.happy\n",
    "\n",
    "def number_agents(model):\n",
    "    return model.schedule.get_agent_count()"
   ]
  },
  {
   "cell_type": "code",
   "execution_count": 20,
   "id": "aggressive-blowing",
   "metadata": {
    "slideshow": {
     "slide_type": "subslide"
    }
   },
   "outputs": [
    {
     "name": "stderr",
     "output_type": "stream",
     "text": [
      "160it [04:44,  1.78s/it]\n"
     ]
    }
   ],
   "source": [
    "parameters = {\"size\": [(20,20)], \"density\": [0.8], \"percent_minority\": [0.2], \n",
    "              \"threshold\": range(1,9)}\n",
    "\n",
    "model_reporters = {\"Segregated_Agents\": get_segregation, 'Happy': get_happy, 'Num_Agents': number_agents}\n",
    "\n",
    "param_sweep = BatchRunner(Schelling, variable_parameters= parameters, iterations=20, max_steps=200, model_reporters=model_reporters)\n",
    "\n",
    "param_sweep.run_all()"
   ]
  },
  {
   "cell_type": "code",
   "execution_count": 21,
   "id": "boxed-search",
   "metadata": {
    "slideshow": {
     "slide_type": "subslide"
    }
   },
   "outputs": [
    {
     "data": {
      "text/html": [
       "<div>\n",
       "<style scoped>\n",
       "    .dataframe tbody tr th:only-of-type {\n",
       "        vertical-align: middle;\n",
       "    }\n",
       "\n",
       "    .dataframe tbody tr th {\n",
       "        vertical-align: top;\n",
       "    }\n",
       "\n",
       "    .dataframe thead th {\n",
       "        text-align: right;\n",
       "    }\n",
       "</style>\n",
       "<table border=\"1\" class=\"dataframe\">\n",
       "  <thead>\n",
       "    <tr style=\"text-align: right;\">\n",
       "      <th></th>\n",
       "      <th>size</th>\n",
       "      <th>density</th>\n",
       "      <th>threshold</th>\n",
       "      <th>percent_minority</th>\n",
       "      <th>Run</th>\n",
       "      <th>Happy</th>\n",
       "      <th>Num_Agents</th>\n",
       "      <th>Segregated_Agents</th>\n",
       "    </tr>\n",
       "  </thead>\n",
       "  <tbody>\n",
       "    <tr>\n",
       "      <th>0</th>\n",
       "      <td>(20, 20)</td>\n",
       "      <td>0.8</td>\n",
       "      <td>0.2</td>\n",
       "      <td>1</td>\n",
       "      <td>0</td>\n",
       "      <td>316</td>\n",
       "      <td>316</td>\n",
       "      <td>0.294304</td>\n",
       "    </tr>\n",
       "    <tr>\n",
       "      <th>1</th>\n",
       "      <td>(20, 20)</td>\n",
       "      <td>0.8</td>\n",
       "      <td>0.2</td>\n",
       "      <td>1</td>\n",
       "      <td>1</td>\n",
       "      <td>318</td>\n",
       "      <td>318</td>\n",
       "      <td>0.518868</td>\n",
       "    </tr>\n",
       "    <tr>\n",
       "      <th>2</th>\n",
       "      <td>(20, 20)</td>\n",
       "      <td>0.8</td>\n",
       "      <td>0.2</td>\n",
       "      <td>1</td>\n",
       "      <td>2</td>\n",
       "      <td>308</td>\n",
       "      <td>308</td>\n",
       "      <td>0.337662</td>\n",
       "    </tr>\n",
       "    <tr>\n",
       "      <th>3</th>\n",
       "      <td>(20, 20)</td>\n",
       "      <td>0.8</td>\n",
       "      <td>0.2</td>\n",
       "      <td>1</td>\n",
       "      <td>3</td>\n",
       "      <td>328</td>\n",
       "      <td>328</td>\n",
       "      <td>0.280488</td>\n",
       "    </tr>\n",
       "    <tr>\n",
       "      <th>4</th>\n",
       "      <td>(20, 20)</td>\n",
       "      <td>0.8</td>\n",
       "      <td>0.2</td>\n",
       "      <td>1</td>\n",
       "      <td>4</td>\n",
       "      <td>311</td>\n",
       "      <td>311</td>\n",
       "      <td>0.292605</td>\n",
       "    </tr>\n",
       "  </tbody>\n",
       "</table>\n",
       "</div>"
      ],
      "text/plain": [
       "       size  density  threshold  percent_minority  Run  Happy  Num_Agents  \\\n",
       "0  (20, 20)      0.8        0.2                 1    0    316         316   \n",
       "1  (20, 20)      0.8        0.2                 1    1    318         318   \n",
       "2  (20, 20)      0.8        0.2                 1    2    308         308   \n",
       "3  (20, 20)      0.8        0.2                 1    3    328         328   \n",
       "4  (20, 20)      0.8        0.2                 1    4    311         311   \n",
       "\n",
       "   Segregated_Agents  \n",
       "0           0.294304  \n",
       "1           0.518868  \n",
       "2           0.337662  \n",
       "3           0.280488  \n",
       "4           0.292605  "
      ]
     },
     "execution_count": 21,
     "metadata": {},
     "output_type": "execute_result"
    }
   ],
   "source": [
    "df = param_sweep.get_model_vars_dataframe()\n",
    "df.head()"
   ]
  },
  {
   "cell_type": "code",
   "execution_count": 27,
   "id": "tested-drill",
   "metadata": {
    "slideshow": {
     "slide_type": "subslide"
    }
   },
   "outputs": [
    {
     "data": {
      "text/html": [
       "<div>\n",
       "<style scoped>\n",
       "    .dataframe tbody tr th:only-of-type {\n",
       "        vertical-align: middle;\n",
       "    }\n",
       "\n",
       "    .dataframe tbody tr th {\n",
       "        vertical-align: top;\n",
       "    }\n",
       "\n",
       "    .dataframe thead th {\n",
       "        text-align: right;\n",
       "    }\n",
       "</style>\n",
       "<table border=\"1\" class=\"dataframe\">\n",
       "  <thead>\n",
       "    <tr style=\"text-align: right;\">\n",
       "      <th></th>\n",
       "      <th>size</th>\n",
       "      <th>density</th>\n",
       "      <th>threshold</th>\n",
       "      <th>percent_minority</th>\n",
       "      <th>Run</th>\n",
       "      <th>Happy</th>\n",
       "      <th>Num_Agents</th>\n",
       "      <th>Segregated_Agents</th>\n",
       "      <th>happy_perc</th>\n",
       "    </tr>\n",
       "  </thead>\n",
       "  <tbody>\n",
       "    <tr>\n",
       "      <th>0</th>\n",
       "      <td>(20, 20)</td>\n",
       "      <td>0.8</td>\n",
       "      <td>0.2</td>\n",
       "      <td>1</td>\n",
       "      <td>0</td>\n",
       "      <td>316</td>\n",
       "      <td>316</td>\n",
       "      <td>0.294304</td>\n",
       "      <td>1.0</td>\n",
       "    </tr>\n",
       "    <tr>\n",
       "      <th>1</th>\n",
       "      <td>(20, 20)</td>\n",
       "      <td>0.8</td>\n",
       "      <td>0.2</td>\n",
       "      <td>1</td>\n",
       "      <td>1</td>\n",
       "      <td>318</td>\n",
       "      <td>318</td>\n",
       "      <td>0.518868</td>\n",
       "      <td>1.0</td>\n",
       "    </tr>\n",
       "    <tr>\n",
       "      <th>2</th>\n",
       "      <td>(20, 20)</td>\n",
       "      <td>0.8</td>\n",
       "      <td>0.2</td>\n",
       "      <td>1</td>\n",
       "      <td>2</td>\n",
       "      <td>308</td>\n",
       "      <td>308</td>\n",
       "      <td>0.337662</td>\n",
       "      <td>1.0</td>\n",
       "    </tr>\n",
       "    <tr>\n",
       "      <th>3</th>\n",
       "      <td>(20, 20)</td>\n",
       "      <td>0.8</td>\n",
       "      <td>0.2</td>\n",
       "      <td>1</td>\n",
       "      <td>3</td>\n",
       "      <td>328</td>\n",
       "      <td>328</td>\n",
       "      <td>0.280488</td>\n",
       "      <td>1.0</td>\n",
       "    </tr>\n",
       "    <tr>\n",
       "      <th>4</th>\n",
       "      <td>(20, 20)</td>\n",
       "      <td>0.8</td>\n",
       "      <td>0.2</td>\n",
       "      <td>1</td>\n",
       "      <td>4</td>\n",
       "      <td>311</td>\n",
       "      <td>311</td>\n",
       "      <td>0.292605</td>\n",
       "      <td>1.0</td>\n",
       "    </tr>\n",
       "  </tbody>\n",
       "</table>\n",
       "</div>"
      ],
      "text/plain": [
       "       size  density  threshold  percent_minority  Run  Happy  Num_Agents  \\\n",
       "0  (20, 20)      0.8        0.2                 1    0    316         316   \n",
       "1  (20, 20)      0.8        0.2                 1    1    318         318   \n",
       "2  (20, 20)      0.8        0.2                 1    2    308         308   \n",
       "3  (20, 20)      0.8        0.2                 1    3    328         328   \n",
       "4  (20, 20)      0.8        0.2                 1    4    311         311   \n",
       "\n",
       "   Segregated_Agents  happy_perc  \n",
       "0           0.294304         1.0  \n",
       "1           0.518868         1.0  \n",
       "2           0.337662         1.0  \n",
       "3           0.280488         1.0  \n",
       "4           0.292605         1.0  "
      ]
     },
     "execution_count": 27,
     "metadata": {},
     "output_type": "execute_result"
    }
   ],
   "source": [
    "df['happy_perc'] = df.Happy / df.Num_Agents\n",
    "df.head()"
   ]
  },
  {
   "cell_type": "code",
   "execution_count": 30,
   "id": "essential-catalyst",
   "metadata": {
    "slideshow": {
     "slide_type": "subslide"
    }
   },
   "outputs": [
    {
     "name": "stderr",
     "output_type": "stream",
     "text": [
      "C:\\Users\\malvarez\\AppData\\Local\\Continuum\\miniconda3\\envs\\urbsim\\lib\\site-packages\\seaborn\\_decorators.py:43: FutureWarning: Pass the following variables as keyword args: x, y. From version 0.12, the only valid positional argument will be `data`, and passing other arguments without an explicit keyword will result in an error or misinterpretation.\n",
      "  FutureWarning\n",
      "C:\\Users\\malvarez\\AppData\\Local\\Continuum\\miniconda3\\envs\\urbsim\\lib\\site-packages\\seaborn\\_decorators.py:43: FutureWarning: Pass the following variables as keyword args: x, y. From version 0.12, the only valid positional argument will be `data`, and passing other arguments without an explicit keyword will result in an error or misinterpretation.\n",
      "  FutureWarning\n"
     ]
    },
    {
     "data": {
      "image/png": "[encoded data removed]",
      "text/plain": [
       "<Figure size 432x288 with 1 Axes>"
      ]
     },
     "metadata": {
      "needs_background": "light"
     },
     "output_type": "display_data"
    }
   ],
   "source": [
    "import seaborn as sns\n",
    "\n",
    "ax =  sns.boxplot(df.percent_minority, df.Segregated_Agents, color=\".9\")\n",
    "ax = sns.swarmplot(df.percent_minority, df.Segregated_Agents, color=\".25\")\n",
    "# plt.scatter(df.threshold, df.Segregated_Agents)\n",
    "# plt.grid(True)"
   ]
  },
  {
   "cell_type": "code",
   "execution_count": 32,
   "id": "changing-findings",
   "metadata": {
    "slideshow": {
     "slide_type": "subslide"
    }
   },
   "outputs": [
    {
     "name": "stderr",
     "output_type": "stream",
     "text": [
      "C:\\Users\\malvarez\\AppData\\Local\\Continuum\\miniconda3\\envs\\urbsim\\lib\\site-packages\\seaborn\\_decorators.py:43: FutureWarning: Pass the following variables as keyword args: x, y. From version 0.12, the only valid positional argument will be `data`, and passing other arguments without an explicit keyword will result in an error or misinterpretation.\n",
      "  FutureWarning\n",
      "C:\\Users\\malvarez\\AppData\\Local\\Continuum\\miniconda3\\envs\\urbsim\\lib\\site-packages\\seaborn\\_decorators.py:43: FutureWarning: Pass the following variables as keyword args: x, y. From version 0.12, the only valid positional argument will be `data`, and passing other arguments without an explicit keyword will result in an error or misinterpretation.\n",
      "  FutureWarning\n",
      "C:\\Users\\malvarez\\AppData\\Local\\Continuum\\miniconda3\\envs\\urbsim\\lib\\site-packages\\seaborn\\categorical.py:1296: UserWarning: 65.0% of the points cannot be placed; you may want to decrease the size of the markers or use stripplot.\n",
      "  warnings.warn(msg, UserWarning)\n",
      "C:\\Users\\malvarez\\AppData\\Local\\Continuum\\miniconda3\\envs\\urbsim\\lib\\site-packages\\seaborn\\categorical.py:1296: UserWarning: 20.0% of the points cannot be placed; you may want to decrease the size of the markers or use stripplot.\n",
      "  warnings.warn(msg, UserWarning)\n",
      "C:\\Users\\malvarez\\AppData\\Local\\Continuum\\miniconda3\\envs\\urbsim\\lib\\site-packages\\seaborn\\categorical.py:1296: UserWarning: 25.0% of the points cannot be placed; you may want to decrease the size of the markers or use stripplot.\n",
      "  warnings.warn(msg, UserWarning)\n"
     ]
    },
    {
     "data": {
      "image/png": "[encoded data removed]",
      "text/plain": [
       "<Figure size 432x288 with 1 Axes>"
      ]
     },
     "metadata": {
      "needs_background": "light"
     },
     "output_type": "display_data"
    }
   ],
   "source": [
    "ax =  sns.boxplot(df.percent_minority, df.happy_perc, color=\".9\")\n",
    "ax = sns.swarmplot(df.percent_minority, df.happy_perc, color=\".25\")"
   ]
  },
  {
   "cell_type": "markdown",
   "id": "equivalent-opera",
   "metadata": {
    "slideshow": {
     "slide_type": "slide"
    }
   },
   "source": [
    "## ABM in scientific research"
   ]
  },
  {
   "cell_type": "markdown",
   "id": "conscious-agent",
   "metadata": {
    "slideshow": {
     "slide_type": "subslide"
    }
   },
   "source": [
    "### Possible extensions to think about in your free time\n",
    "\n",
    "* Change the size of the worl\n",
    "* what happens if we add variance to the threshold of each agent?"
   ]
  },
  {
   "cell_type": "markdown",
   "id": "signal-evening",
   "metadata": {
    "slideshow": {
     "slide_type": "slide"
    }
   },
   "source": [
    "### References\n",
    "\n",
    "* MESA reference: https://mesa.readthedocs.io/en/master/tutorials/intro_tutorial.html#tutorial-description\n",
    "* Original Schelling model paper: https://www.stat.berkeley.edu/~aldous/157/Papers/Schelling_Seg_Models.pdf"
   ]
  }
 ],
 "metadata": {
  "celltoolbar": "Slideshow",
  "kernelspec": {
   "display_name": "urbsim",
   "language": "python",
   "name": "urbsim"
  },
  "language_info": {
   "codemirror_mode": {
    "name": "ipython",
    "version": 3
   },
   "file_extension": ".py",
   "mimetype": "text/x-python",
   "name": "python",
   "nbconvert_exporter": "python",
   "pygments_lexer": "ipython3",
   "version": "3.7.9"
  }
 },
 "nbformat": 4,
 "nbformat_minor": 5
}
