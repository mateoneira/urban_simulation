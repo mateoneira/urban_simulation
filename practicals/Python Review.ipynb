{
 "cells": [
  {
   "cell_type": "markdown",
   "metadata": {
    "slideshow": {
     "slide_type": "slide"
    }
   },
   "source": [
    "### CASA0002\n",
    "\n",
    "# Urban Simulation\n",
    "***\n",
    "## Python Review Practical\n",
    "***"
   ]
  },
  {
   "cell_type": "markdown",
   "metadata": {
    "slideshow": {
     "slide_type": "slide"
    }
   },
   "source": [
    "### Many kinds of Python\n",
    "#### The Jupyter Notebook\n",
    "\n",
    "The easiest way to get started using Python, and one of the best for research data work, is the Jupyter Notebook.\n",
    "\n",
    "In the notebook, you can easily mix code with discussion and commentary, and mix code with the results of that code;\n",
    "including graphs and other data visualisations.\n",
    "\n",
    "Jupyter notebooks consist of discussion cells, referred to as \"markdown cells\", and \"code cells\", which contain Python. This document has been created using Jupyter notebook, and this very cell is a **Markdown Cell**. "
   ]
  },
  {
   "cell_type": "code",
   "execution_count": 14,
   "metadata": {
    "slideshow": {
     "slide_type": "slide"
    }
   },
   "outputs": [
    {
     "name": "stdout",
     "output_type": "stream",
     "text": [
      "This cell is a code cell\n"
     ]
    }
   ],
   "source": [
    "print(\"This cell is a code cell\")"
   ]
  },
  {
   "cell_type": "markdown",
   "metadata": {},
   "source": [
    "### Typing code in the notebook\n",
    "\n",
    "When working with the notebook, you can either be in a cell, typing its contents, or outside cells, moving around the notebook.\n",
    "\n",
    "* When in a cell, press escape to leave it. When moving around outside cells, press return to enter.\n",
    "* Outside a cell:\n",
    "  * Use arrow keys to move around.\n",
    "  * Press `b` to add a new cell below the cursor.\n",
    "  * Press `m` to turn a cell from code mode to markdown mode.\n",
    "  * Press `shift`+`enter` to calculate the code in the block.\n",
    "  * Press `h` to see a list of useful keys in the notebook.\n",
    "* Inside a cell:\n",
    "  * Press `tab` to suggest completions of variables. (Try it!)\n",
    "  \n",
    "*Supplementary material*: Learn more about [Jupyter notebooks](https://jupyter.org/)."
   ]
  },
  {
   "cell_type": "markdown",
   "metadata": {
    "slideshow": {
     "slide_type": "slide"
    }
   },
   "source": [
    "**Python** is an extremely popular and versatile high-level programming language that was created by Guido Van Rossum in the 90.\n",
    "It is a general-purpose language focusing on procedural programming (which we will focus on) and object oriented programming. "
   ]
  },
  {
   "cell_type": "code",
   "execution_count": 16,
   "metadata": {
    "slideshow": {
     "slide_type": "slide"
    }
   },
   "outputs": [
    {
     "name": "stdout",
     "output_type": "stream",
     "text": [
      "hello world\n"
     ]
    }
   ],
   "source": [
    "# let's start with printing \"hello world\"\n",
    "print (\"hello world\")"
   ]
  },
  {
   "cell_type": "markdown",
   "metadata": {},
   "source": [
    "### Comments\n",
    "\n",
    "Code after a `#` symbol doesn't get run."
   ]
  },
  {
   "cell_type": "code",
   "execution_count": 25,
   "metadata": {},
   "outputs": [
    {
     "name": "stdout",
     "output_type": "stream",
     "text": [
      "This runs\n"
     ]
    }
   ],
   "source": [
    "print(\"This runs\") # print \"This doesn't\"\n",
    "# print This doesn't either"
   ]
  },
  {
   "cell_type": "markdown",
   "metadata": {
    "slideshow": {
     "slide_type": "slide"
    }
   },
   "source": [
    "### Variables assignment\n",
    "\n",
    "A value/object stored in computer’s memory ”=“\n",
    "\n",
    ">x = \"hello world\"\n"
   ]
  },
  {
   "cell_type": "markdown",
   "metadata": {},
   "source": [
    "When we generate a result, the answer is displayed, but not kept anywhere."
   ]
  },
  {
   "cell_type": "code",
   "execution_count": 27,
   "metadata": {},
   "outputs": [
    {
     "data": {
      "text/plain": [
       "6"
      ]
     },
     "execution_count": 27,
     "metadata": {},
     "output_type": "execute_result"
    }
   ],
   "source": [
    "2*3"
   ]
  },
  {
   "cell_type": "markdown",
   "metadata": {},
   "source": [
    "If we want to get back to that result, we have to store it. We put it in a box, with a name on the box. This is a **variable**."
   ]
  },
  {
   "cell_type": "code",
   "execution_count": 29,
   "metadata": {},
   "outputs": [
    {
     "name": "stdout",
     "output_type": "stream",
     "text": [
      "6\n"
     ]
    }
   ],
   "source": [
    "result = 2*3\n",
    "print(result)"
   ]
  },
  {
   "cell_type": "markdown",
   "metadata": {},
   "source": [
    "### Objects and types\n",
    "\n",
    "An object, like `result`, has a type. Here we see that the object 'result' has type \"int\".\n",
    "`int` means a integer object."
   ]
  },
  {
   "cell_type": "code",
   "execution_count": 30,
   "metadata": {},
   "outputs": [
    {
     "data": {
      "text/plain": [
       "int"
      ]
     },
     "execution_count": 30,
     "metadata": {},
     "output_type": "execute_result"
    }
   ],
   "source": [
    "type(result)"
   ]
  },
  {
   "cell_type": "markdown",
   "metadata": {
    "slideshow": {
     "slide_type": "slide"
    }
   },
   "source": [
    "### Basic Data Types\n",
    "\n",
    "Strings(str): an ordered sequence of characters. \n",
    ">Sample_string=“hello world”\n",
    "\n",
    "Integers(int): Positive/Negative whole numbers \n",
    ">sample_int = 3619\n",
    "\n",
    "Floats(float): Real number with floating point. \n",
    ">Sample_float= 1.126\n",
    "\n",
    "Boolean(bool): either True or False\n",
    ">Sample_bool = True\n",
    "\n",
    "### Composite data-types\n",
    "\n",
    "Sequence : list, tuple, range\n",
    "\n",
    "> l1 = []\n",
    "\n",
    "Mapping : dict\n",
    "\n",
    "> d1 = {'stephen':'London'}\n",
    "\n",
    "Sets: set\n",
    "\n",
    "> s1 = {1,10}\n"
   ]
  },
  {
   "cell_type": "code",
   "execution_count": 36,
   "metadata": {},
   "outputs": [
    {
     "name": "stdout",
     "output_type": "stream",
     "text": [
      "h\n",
      "e\n",
      "hello\n"
     ]
    }
   ],
   "source": [
    "# you can access each character of a string through an index\n",
    "\n",
    "# first element\n",
    "x = 'hello world'\n",
    "print(x[0])\n",
    "\n",
    "# second element\n",
    "print (x[1])\n",
    "\n",
    "# slice\n",
    "print (x[0:5])"
   ]
  },
  {
   "cell_type": "markdown",
   "metadata": {},
   "source": [
    "### Lists\n",
    "A list is a mutable ordered sequence of items. The items of a list are arbitrary objects.\n",
    "> mylist = []"
   ]
  },
  {
   "cell_type": "code",
   "execution_count": 1,
   "metadata": {},
   "outputs": [
    {
     "name": "stdout",
     "output_type": "stream",
     "text": [
      "[1, 2, 3, 4, 5, 6]\n",
      "2\n",
      "[3, 4, 5, 6]\n",
      "[1, 2, 4, 5, 6, 7]\n"
     ]
    }
   ],
   "source": [
    "# lists are defined by [] or list()\n",
    "list1=[1,2,3,4,5,6]\n",
    "print(list1)\n",
    "# lists can be sliced\n",
    "print (list1[1])\n",
    "print (list1[2:])\n",
    "\n",
    "# list methods - pop and append\n",
    "list1=[1,2,3,4,5,6]\n",
    "\n",
    "#we can add an element to the end of a list with .append\n",
    "list1.append(7)\n",
    "\n",
    "#we can remove an element from the list with .pop\n",
    "list1.pop(2)\n",
    "print (list1)"
   ]
  },
  {
   "cell_type": "markdown",
   "metadata": {},
   "source": [
    "### tuples\n",
    "\n",
    "an ordered immutable collection of one or more items.\n",
    "> my_tuple = ('london', 'new york')"
   ]
  },
  {
   "cell_type": "code",
   "execution_count": 3,
   "metadata": {},
   "outputs": [
    {
     "ename": "TypeError",
     "evalue": "'tuple' object does not support item assignment",
     "output_type": "error",
     "traceback": [
      "\u001b[1;31m---------------------------------------------------------------------------\u001b[0m",
      "\u001b[1;31mTypeError\u001b[0m                                 Traceback (most recent call last)",
      "\u001b[1;32m<ipython-input-3-4f0b679438d6>\u001b[0m in \u001b[0;36m<module>\u001b[1;34m\u001b[0m\n\u001b[0;32m      3\u001b[0m \u001b[1;33m\u001b[0m\u001b[0m\n\u001b[0;32m      4\u001b[0m \u001b[1;31m# tuples are immutable\u001b[0m\u001b[1;33m\u001b[0m\u001b[1;33m\u001b[0m\u001b[1;33m\u001b[0m\u001b[0m\n\u001b[1;32m----> 5\u001b[1;33m \u001b[0mtup1\u001b[0m\u001b[1;33m[\u001b[0m\u001b[1;36m0\u001b[0m\u001b[1;33m]\u001b[0m\u001b[1;33m=\u001b[0m\u001b[1;36m1\u001b[0m\u001b[1;33m\u001b[0m\u001b[1;33m\u001b[0m\u001b[0m\n\u001b[0m",
      "\u001b[1;31mTypeError\u001b[0m: 'tuple' object does not support item assignment"
     ]
    }
   ],
   "source": [
    "# tuples are defined by () or tuple()\n",
    "tup1=(1,2,3,4)\n",
    "\n",
    "# tuples are immutable\n",
    "tup1[0]=1"
   ]
  },
  {
   "cell_type": "markdown",
   "metadata": {},
   "source": [
    "### dictionary\n",
    "\n",
    "A dictionary is an unordered collection of data in a key:value pair.\n",
    "\n",
    "> my_dict = {'key1': 10}"
   ]
  },
  {
   "cell_type": "code",
   "execution_count": 4,
   "metadata": {},
   "outputs": [
    {
     "name": "stdout",
     "output_type": "stream",
     "text": [
      "{'course': 'urban simulation', 'duration': 10, 'location': 'London'}\n",
      "urban simulation\n"
     ]
    }
   ],
   "source": [
    "# dicts are defined by {key:vaue} or dict()\n",
    "d1 = {}\n",
    "d1['course']=\"urban simulation\"\n",
    "d1['duration']=10\n",
    "d1['location']=\"London\"\n",
    "print(d1)\n",
    "\n",
    "#access item in dictionary\n",
    "print(d1['course'])"
   ]
  },
  {
   "cell_type": "markdown",
   "metadata": {},
   "source": [
    "### sets\n",
    "\n",
    "Unordered collections of unique elements.\n",
    "\n",
    ">sample_set = {\"Camden\",\"Hackney\",\"Westminster\"}"
   ]
  },
  {
   "cell_type": "code",
   "execution_count": 6,
   "metadata": {},
   "outputs": [
    {
     "data": {
      "text/plain": [
       "{1, 10}"
      ]
     },
     "execution_count": 6,
     "metadata": {},
     "output_type": "execute_result"
    }
   ],
   "source": [
    "#sets are defined by {} or set()\n",
    "set1 = {1,1,1,1,10}\n",
    "set1"
   ]
  },
  {
   "cell_type": "code",
   "execution_count": 7,
   "metadata": {},
   "outputs": [
    {
     "name": "stdout",
     "output_type": "stream",
     "text": [
      "{1}\n",
      "{1, 10, 20}\n",
      "{10}\n"
     ]
    }
   ],
   "source": [
    "# sets operations\n",
    "\n",
    "set1={1,1,1,1,10}\n",
    "set2={1,1,1,1,20}\n",
    "\n",
    "print (set1.intersection(set2))\n",
    "\n",
    "print (set1.union(set2))\n",
    "\n",
    "print (set1.difference(set2))"
   ]
  },
  {
   "cell_type": "markdown",
   "metadata": {},
   "source": [
    "### Range\n",
    "\n",
    "Immutable sequence of numbers and is commonly used for looping a specific number of times in a for loop. Its three parameters are the beginning of range, the end of range and its increments.\n",
    "\n",
    "> range(1,10,1)"
   ]
  },
  {
   "cell_type": "code",
   "execution_count": 16,
   "metadata": {},
   "outputs": [
    {
     "data": {
      "text/plain": [
       "[1, 3, 5, 7, 9]"
      ]
     },
     "execution_count": 16,
     "metadata": {},
     "output_type": "execute_result"
    }
   ],
   "source": [
    "list(range(1,10,2))"
   ]
  },
  {
   "cell_type": "markdown",
   "metadata": {
    "slideshow": {
     "slide_type": "slide"
    }
   },
   "source": [
    "## Algorithms\n",
    "\n",
    "An algorithm is a sequence of operations that need to be performed to solve a problem or carry out a process.\n",
    "\n",
    "\n",
    "## Program\n",
    "A program is a series of software instructions to control the operation of a computer. A program can contain multiple algorithms.\n",
    "\n"
   ]
  },
  {
   "cell_type": "code",
   "execution_count": 8,
   "metadata": {
    "slideshow": {
     "slide_type": "slide"
    }
   },
   "outputs": [
    {
     "name": "stdout",
     "output_type": "stream",
     "text": [
      "6\n"
     ]
    }
   ],
   "source": [
    "# a simple program\n",
    "width = 2\n",
    "height = 3\n",
    "area = width * height\n",
    "print(area)"
   ]
  },
  {
   "cell_type": "markdown",
   "metadata": {
    "slideshow": {
     "slide_type": "slide"
    }
   },
   "source": [
    "### Basic Arithmatic Operations\n",
    "\n",
    "In python there are a number of basic arithmatic operations\n",
    "\n",
    "    +    addition\n",
    "    -    subtraction\n",
    "    *    multiplication\n",
    "    /    division\n",
    "    **   exponentiation\n",
    "    %    modulo (remainder of division)\n",
    "    ==   equality (true/false)"
   ]
  },
  {
   "cell_type": "code",
   "execution_count": 11,
   "metadata": {
    "slideshow": {
     "slide_type": "slide"
    }
   },
   "outputs": [
    {
     "name": "stdout",
     "output_type": "stream",
     "text": [
      "64.0\n"
     ]
    }
   ],
   "source": [
    "# perform basic mathematic operations on the variables\n",
    "a = 20\n",
    "b = 60\n",
    "c = 80\n",
    "z = ((a+b+c)/20)**2\n",
    "print (z)\n"
   ]
  },
  {
   "cell_type": "markdown",
   "metadata": {},
   "source": [
    "### Functions\n",
    "\n",
    "We can wrap code up in a **function**, so that we can repeatedly get just the information we want.\n",
    "\n",
    "A function are statements which is executed when it is called. It uses the keyword def().\n",
    "\n",
    "> def newFunc():"
   ]
  },
  {
   "cell_type": "code",
   "execution_count": 12,
   "metadata": {},
   "outputs": [],
   "source": [
    "def area(width, height):\n",
    "    return width * height"
   ]
  },
  {
   "cell_type": "code",
   "execution_count": 13,
   "metadata": {},
   "outputs": [
    {
     "data": {
      "text/plain": [
       "60"
      ]
     },
     "execution_count": 13,
     "metadata": {},
     "output_type": "execute_result"
    }
   ],
   "source": [
    "area(5, 12)"
   ]
  },
  {
   "cell_type": "markdown",
   "metadata": {},
   "source": [
    "### Control Structure\n",
    "\n",
    "Branching : if/else\n",
    "\n",
    "Loop/Iteration : for/in , while"
   ]
  },
  {
   "cell_type": "markdown",
   "metadata": {},
   "source": [
    "#### If statement\n",
    "Conditional Statement in Python are handled by the IF statement."
   ]
  },
  {
   "cell_type": "code",
   "execution_count": 21,
   "metadata": {},
   "outputs": [
    {
     "name": "stdout",
     "output_type": "stream",
     "text": [
      "False\n"
     ]
    }
   ],
   "source": [
    "### if/else conditions\n",
    "steps=9\n",
    "if steps==10:\n",
    "    print (\"True\")\n",
    "else:\n",
    "    print (\"False\")"
   ]
  },
  {
   "cell_type": "markdown",
   "metadata": {},
   "source": [
    "#### for statement\n",
    "For statements are used when you have a block of code which you want to repeat. The **For** keyword is used to loop over an iteratable object such as strings, lists, range."
   ]
  },
  {
   "cell_type": "code",
   "execution_count": 23,
   "metadata": {},
   "outputs": [
    {
     "name": "stdout",
     "output_type": "stream",
     "text": [
      "1\n",
      "2\n",
      "3\n",
      "4\n",
      "5\n",
      "6\n"
     ]
    }
   ],
   "source": [
    "# list as an iterator\n",
    "list1=[1,2,3,4,5,6]\n",
    "for i in list1:\n",
    "    print (i)"
   ]
  },
  {
   "cell_type": "markdown",
   "metadata": {},
   "source": [
    "#### while statement\n",
    "\n",
    "While statement is used when a condition needs to be checked for each iteration, or to repeat a block of code forever."
   ]
  },
  {
   "cell_type": "code",
   "execution_count": 25,
   "metadata": {},
   "outputs": [
    {
     "name": "stdout",
     "output_type": "stream",
     "text": [
      "hello world: 0\n",
      "hello world: 1\n",
      "hello world: 2\n",
      "hello world: 3\n",
      "hello world: 4\n",
      "hello world: 5\n",
      "hello world: 6\n",
      "hello world: 7\n",
      "hello world: 8\n",
      "hello world: 9\n"
     ]
    }
   ],
   "source": [
    "### while loops\n",
    "steps=10\n",
    "i=0\n",
    "while i<steps:\n",
    "    print (f'hello world: {i}')\n",
    "    i=i+1"
   ]
  },
  {
   "cell_type": "markdown",
   "metadata": {},
   "source": [
    "### Importing Libraries\n",
    "\n",
    "Research programming is all about using libraries: tools other people have provided programs that do many cool things.\n",
    "By combining them we can feel really powerful but doing minimum work ourselves. The python syntax to import someone else's library is \"import\"."
   ]
  },
  {
   "cell_type": "code",
   "execution_count": 26,
   "metadata": {},
   "outputs": [
    {
     "data": {
      "text/plain": [
       "Location(Cambridge, Cambridgeshire, East of England, England, United Kingdom, (52.197584649999996, 0.13915373736874398, 0.0))"
      ]
     },
     "execution_count": 26,
     "metadata": {},
     "output_type": "execute_result"
    }
   ],
   "source": [
    "import geopy # A python library for investigating geographic information.\n",
    "# https://pypi.org/project/geopy/\n",
    "\n",
    "# get coordinates of cambridge\n",
    "geocoder = geopy.geocoders.Nominatim(user_agent='CASA0002')\n",
    "geocoder.geocode('Cambridge')"
   ]
  },
  {
   "cell_type": "markdown",
   "metadata": {},
   "source": [
    "### Classes: objects in python\n",
    "\n",
    "Everything is an object in Python which are defined using classes. These are defined by the keyword class.\n",
    "\n",
    "> class myClass:\n",
    "\n",
    "Functions within objects are called methods. We can access these with a dot.\n",
    "\n",
    "> \"hello world!\".upper()"
   ]
  },
  {
   "cell_type": "code",
   "execution_count": 54,
   "metadata": {},
   "outputs": [],
   "source": [
    "class City:\n",
    "    def __init__(self, name, pop, area):\n",
    "        self.name = name\n",
    "        self.population = pop\n",
    "        self.area = area\n",
    "        self. density = pop/area\n",
    "    def info(self):\n",
    "        print(f'name: {self.name}, population: {self.population}, area: {self.area}, density {self.density}')"
   ]
  },
  {
   "cell_type": "code",
   "execution_count": 55,
   "metadata": {},
   "outputs": [],
   "source": [
    "london = City('London', 8961989, 1572)"
   ]
  },
  {
   "cell_type": "code",
   "execution_count": 57,
   "metadata": {},
   "outputs": [
    {
     "name": "stdout",
     "output_type": "stream",
     "text": [
      "name: London, population: 8961989, area: 1572, density 5701.010814249364\n"
     ]
    }
   ],
   "source": [
    "london.info()"
   ]
  },
  {
   "cell_type": "markdown",
   "metadata": {},
   "source": [
    "## Numpy\n",
    "\n",
    "Numpy is the fundamental package for scientific computing with Python. It provides numerical functions on ndarray which are fixed size n-dimensional array data structures. Numpy is implemented in C where its memory is more efficiently stored.\n",
    "\n",
    ">import numpy as np"
   ]
  },
  {
   "cell_type": "code",
   "execution_count": 58,
   "metadata": {},
   "outputs": [],
   "source": [
    "### let's first import the numpy library\n",
    "import numpy as np"
   ]
  },
  {
   "cell_type": "markdown",
   "metadata": {},
   "source": [
    "### Numpy Arrays - Vectors\n",
    "> $x \\in \\mathbb{R}^n$\n",
    " \n",
    "one dimensional ndarray represent a vector of elements.\n",
    "> x = np.array([2,3,4])"
   ]
  },
  {
   "cell_type": "code",
   "execution_count": 60,
   "metadata": {},
   "outputs": [
    {
     "name": "stdout",
     "output_type": "stream",
     "text": [
      "1\n",
      "16\n",
      "(16,)\n",
      "int32\n"
     ]
    }
   ],
   "source": [
    "### make a 1d array\n",
    "array1=np.array([1,1,1,1,1,1,1,2,2,3,4,5,6,7,8,10])\n",
    "\n",
    "print (array1.ndim)\n",
    "print (array1.size)\n",
    "print (array1.shape)\n",
    "\n",
    "# similar to python data type (int,float,bool)\n",
    "print (array1.dtype)"
   ]
  },
  {
   "cell_type": "markdown",
   "metadata": {},
   "source": [
    "### Numpy Arrays - Matrix\n",
    "\n",
    "> $m \\in \\mathbb{R}^{n*m}$\n",
    "\n",
    "two dimensional ndarray represents a matrix of elements.\n",
    "\n",
    "> array2 = np.array([[1, 2, 3], [4, 5, 6]])"
   ]
  },
  {
   "cell_type": "code",
   "execution_count": 62,
   "metadata": {},
   "outputs": [
    {
     "name": "stdout",
     "output_type": "stream",
     "text": [
      "2\n",
      "32\n",
      "(2, 16)\n",
      "int32\n"
     ]
    }
   ],
   "source": [
    "### make a 2d array\n",
    "array2=np.array([[1,1,1,1,1,1,1,2,2,3,4,5,6,7,8,10],\n",
    "                 [1,1,1,1,1,1,1,2,2,3,4,5,6,7,8,10]])\n",
    "\n",
    "print (array2.ndim)\n",
    "print (array2.size)\n",
    "print (array2.shape)\n",
    "print (array2.dtype)"
   ]
  },
  {
   "cell_type": "markdown",
   "metadata": {},
   "source": [
    "### Numpy Arrays - Multidimensional arrays (Tensors)\n",
    "\n",
    "We can also use ndarray to create multidimensional arrays. These are often useful to represent tensors.\n",
    "\n",
    "Images for example can be represented as a three-dimensional array, where the shape = (channel,height, width).\n",
    "\n",
    ">array3 = np.array([[[1, 2],[4, 5]],[[2, 5], [6, 4]],[[2, 5],[6, 4]]])"
   ]
  },
  {
   "cell_type": "code",
   "execution_count": 63,
   "metadata": {},
   "outputs": [
    {
     "name": "stdout",
     "output_type": "stream",
     "text": [
      "3\n",
      "12\n",
      "(3, 2, 2)\n",
      "int32\n"
     ]
    }
   ],
   "source": [
    "### make a 3d array\n",
    "array3=np.array( [[[1, 2],\n",
    "                   [4, 5]],\n",
    "                  [[2, 5],\n",
    "                   [6, 4]],\n",
    "                  [[2, 5],\n",
    "                   [6, 4]]])\n",
    "\n",
    "print (array3.ndim)\n",
    "print (array3.size)\n",
    "print (array3.shape)\n",
    "print (array3.dtype)"
   ]
  },
  {
   "cell_type": "markdown",
   "metadata": {},
   "source": [
    "### index, sort and reshape arrays"
   ]
  },
  {
   "cell_type": "code",
   "execution_count": 70,
   "metadata": {},
   "outputs": [
    {
     "name": "stdout",
     "output_type": "stream",
     "text": [
      "1\n",
      "[1 1 8 1 1 5 1 2 2 3]\n"
     ]
    }
   ],
   "source": [
    "array1=np.array([1,1,8,1,1,5,1,2,2,3,4,5,6,7,8])\n",
    "\n",
    "### indexing\n",
    "print (array1[0])\n",
    "\n",
    "### slicing\n",
    "print (array1[0:10])"
   ]
  },
  {
   "cell_type": "code",
   "execution_count": 71,
   "metadata": {},
   "outputs": [
    {
     "data": {
      "text/plain": [
       "array([1, 1, 1, 1, 1, 2, 2, 3, 4, 5, 5, 6, 7, 8, 8])"
      ]
     },
     "execution_count": 71,
     "metadata": {},
     "output_type": "execute_result"
    }
   ],
   "source": [
    "### sort the array\n",
    "np.sort(array1)"
   ]
  },
  {
   "cell_type": "code",
   "execution_count": 76,
   "metadata": {},
   "outputs": [
    {
     "name": "stdout",
     "output_type": "stream",
     "text": [
      "[[1 2 3]\n",
      " [4 5 6]]\n",
      "[[1 2]\n",
      " [3 4]\n",
      " [5 6]]\n",
      "(2, 3)\n"
     ]
    }
   ],
   "source": [
    "# reshape array\n",
    "array2 = np.array([[1, 2, 3],\n",
    "                   [4, 5, 6]])\n",
    "print(array2)\n",
    "# as 3x2 ndarray\n",
    "array3 = array2.reshape(3,2)\n",
    "print (array3)\n",
    "\n",
    "print (array2.shape)"
   ]
  },
  {
   "cell_type": "code",
   "execution_count": 77,
   "metadata": {},
   "outputs": [
    {
     "name": "stdout",
     "output_type": "stream",
     "text": [
      "[[1 4]\n",
      " [2 5]\n",
      " [3 6]]\n"
     ]
    }
   ],
   "source": [
    "# transpose array\n",
    "print(array2.T)"
   ]
  },
  {
   "cell_type": "code",
   "execution_count": 79,
   "metadata": {},
   "outputs": [
    {
     "name": "stdout",
     "output_type": "stream",
     "text": [
      "[[1 2]\n",
      " [3 4]\n",
      " [5 6]]\n",
      "[1 2 3 4 5 6]\n"
     ]
    }
   ],
   "source": [
    "# flatten array\n",
    "print (array3)\n",
    "print (array3.flatten())"
   ]
  },
  {
   "cell_type": "markdown",
   "metadata": {},
   "source": [
    "### mathematical function\n",
    "* np.sum - Compute sum of elements\n",
    "* np.prod - Compute product of elements\n",
    "* np.mean - Compute mean of elements\n",
    "* np.std - Compute standard deviation\n",
    "* np.var - Compute variance\n",
    "* np.min - Find minimum value\n",
    "* np.max - Find maximum value\n",
    "* np.argmin - Find index of minimum value\n",
    "* np.argmax - Find index of maximum value\n",
    "* np.median - Compute median of elements"
   ]
  },
  {
   "cell_type": "code",
   "execution_count": 84,
   "metadata": {},
   "outputs": [
    {
     "name": "stdout",
     "output_type": "stream",
     "text": [
      "[2 3 4]\n",
      "[2 4 6]\n",
      "[1 4 9]\n"
     ]
    }
   ],
   "source": [
    "# arithmatic operations on arrays \n",
    "array0 = np.array([1, 2, 3])\n",
    "\n",
    "# these operation are 'broadcasted' to the array\n",
    "# see https://numpy.org/doc/stable/user/basics.broadcasting.html\n",
    "print (array0 + 1)\n",
    "print (array0 * 2)\n",
    "print (array0 ** 2)"
   ]
  },
  {
   "cell_type": "code",
   "execution_count": 86,
   "metadata": {},
   "outputs": [
    {
     "name": "stdout",
     "output_type": "stream",
     "text": [
      "[ 2  2  2  2  2  2  2  4  4  6  8 10 12 14 16 20]\n",
      "[54 54]\n"
     ]
    }
   ],
   "source": [
    "# define array\n",
    "array2=np.array([[1,1,1,1,1,1,1,2,2,3,4,5,6,7,8,10],\n",
    "                 [1,1,1,1,1,1,1,2,2,3,4,5,6,7,8,10]])\n",
    "\n",
    "# sum across columns \n",
    "print (np.sum(array2,axis=0))\n",
    "\n",
    "# sums across rows \n",
    "print (np.sum(array2,axis=1))"
   ]
  },
  {
   "cell_type": "markdown",
   "metadata": {},
   "source": [
    "### special arrays"
   ]
  },
  {
   "cell_type": "code",
   "execution_count": 88,
   "metadata": {},
   "outputs": [
    {
     "name": "stdout",
     "output_type": "stream",
     "text": [
      "[0. 0. 0. 0. 0. 0. 0. 0. 0. 0.]\n",
      "[1. 1. 1. 1. 1. 1. 1. 1. 1. 1.]\n",
      "[[0.93216983 0.42788755]\n",
      " [0.84390891 0.7492732 ]\n",
      " [0.46776845 0.48817346]]\n",
      "[[1. 0. 0.]\n",
      " [0. 1. 0.]\n",
      " [0. 0. 1.]]\n"
     ]
    }
   ],
   "source": [
    "### make an empty arrays of zeroes with shape (10)\n",
    "print (np.zeros(10))\n",
    "\n",
    "### make an empty arrays of ones with shape (10)\n",
    "print (np.ones(10))\n",
    "\n",
    "### make an array of random numbers with shape (3,2)\n",
    "print (np.random.rand(3,2))\n",
    "\n",
    "### an Identity matrix where the entries of the diagonals are 1\n",
    "print (np.eye(3))"
   ]
  },
  {
   "cell_type": "markdown",
   "metadata": {},
   "source": [
    "### numerical operations"
   ]
  },
  {
   "cell_type": "code",
   "execution_count": 91,
   "metadata": {},
   "outputs": [
    {
     "data": {
      "text/plain": [
       "32"
      ]
     },
     "execution_count": 91,
     "metadata": {},
     "output_type": "execute_result"
    }
   ],
   "source": [
    "# dot product between two arrays (product-sum between the two arrays)\n",
    "rv = np.array([1,2,3])\n",
    "cv = np.array([4,5,6])\n",
    "np.dot(rv,cv)"
   ]
  },
  {
   "cell_type": "code",
   "execution_count": 92,
   "metadata": {},
   "outputs": [
    {
     "data": {
      "text/plain": [
       "array([214, 214])"
      ]
     },
     "execution_count": 92,
     "metadata": {},
     "output_type": "execute_result"
    }
   ],
   "source": [
    "array1D=np.array([1,1,1,1,1,1,1,2,2,3,4,5,6,7,8])\n",
    "array2D=np.array([[1,1,1,1,1,1,1,2,2,3,4,5,6,7,8],\n",
    "                 [1,1,1,1,1,1,1,2,2,3,4,5,6,7,8]])\n",
    "\n",
    "np.matmul(array2D,array1D)"
   ]
  },
  {
   "cell_type": "markdown",
   "metadata": {
    "slideshow": {
     "slide_type": "slide"
    }
   },
   "source": [
    "### References\n",
    "\n",
    "* Python for Data Analysis: Data Wrangling with Pandas, NumPy, and Ipython (Wes McKinney)\n",
    "\n",
    "\n",
    "* Python Official Tutorial https://docs.python.org/3/tutorial/index.html\n",
    "\n",
    "\n",
    "* John V. Guttag. Introduction to Computation and Programming Using Python. MIT Press 2013. \n"
   ]
  }
 ],
 "metadata": {
  "kernelspec": {
   "display_name": "urbsim",
   "language": "python",
   "name": "urbsim"
  },
  "language_info": {
   "codemirror_mode": {
    "name": "ipython",
    "version": 3
   },
   "file_extension": ".py",
   "mimetype": "text/x-python",
   "name": "python",
   "nbconvert_exporter": "python",
   "pygments_lexer": "ipython3",
   "version": "3.7.8"
  }
 },
 "nbformat": 4,
 "nbformat_minor": 2
}
