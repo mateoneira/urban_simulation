{
 "cells": [
  {
   "cell_type": "markdown",
   "metadata": {
    "slideshow": {
     "slide_type": "slide"
    }
   },
   "source": [
    "### CASA0002\n",
    "\n",
    "Urban Simulation\n",
    "-----------------------------------\n",
    "Python Review Practical\n",
    "-----------------------------------\n",
    "\n",
    "### Introduction\n",
    "\n",
    "In this first session, we will do a quick review of Python.\n",
    "\n",
    "### Many kinds of Python\n",
    "#### The Jupyter Notebook\n",
    "\n",
    "The easiest way to get started using Python, and one of the best for research data work, is the Jupyter Notebook.\n",
    "\n",
    "In the notebook, you can easily mix code with discussion and commentary, and mix code with the results of that code;\n",
    "including graphs and other data visualisations.\n",
    "\n",
    "Jupyter notebooks consist of discussion cells, referred to as \"markdown cells\", and \"code cells\", which contain Python. This document has been created using Jupyter notebook, and this very cell is a **Markdown Cell**. \n"
   ]
  },
  {
   "cell_type": "code",
   "execution_count": 14,
   "metadata": {
    "slideshow": {
     "slide_type": "slide"
    }
   },
   "outputs": [
    {
     "name": "stdout",
     "output_type": "stream",
     "text": [
      "This cell is a code cell\n"
     ]
    }
   ],
   "source": [
    "print(\"This cell is a code cell\")"
   ]
  },
  {
   "cell_type": "markdown",
   "metadata": {},
   "source": [
    "### Typing code in the notebook\n",
    "\n",
    "When working with the notebook, you can either be in a cell, typing its contents, or outside cells, moving around the notebook.\n",
    "\n",
    "* When in a cell, press escape to leave it. When moving around outside cells, press return to enter.\n",
    "* Outside a cell:\n",
    "  * Use arrow keys to move around.\n",
    "  * Press `b` to add a new cell below the cursor.\n",
    "  * Press `m` to turn a cell from code mode to markdown mode.\n",
    "  * Press `shift`+`enter` to calculate the code in the block.\n",
    "  * Press `h` to see a list of useful keys in the notebook.\n",
    "* Inside a cell:\n",
    "  * Press `tab` to suggest completions of variables. (Try it!)\n",
    "  \n",
    "*Supplementary material*: Learn more about [Jupyter notebooks](https://jupyter.org/)."
   ]
  },
  {
   "cell_type": "markdown",
   "metadata": {
    "slideshow": {
     "slide_type": "slide"
    }
   },
   "source": [
    "**Python** is an extremely popular and versatile high-level programming language that was created by Guido Van Rossum in the 90.\n",
    "It is a general-purpose language focusing on procedural programming (which we will focus on) and object oriented programming. "
   ]
  },
  {
   "cell_type": "code",
   "execution_count": 16,
   "metadata": {
    "slideshow": {
     "slide_type": "slide"
    }
   },
   "outputs": [
    {
     "name": "stdout",
     "output_type": "stream",
     "text": [
      "hello world\n"
     ]
    }
   ],
   "source": [
    "# let's start with printing \"hello world\"\n",
    "print (\"hello world\")"
   ]
  },
  {
   "cell_type": "markdown",
   "metadata": {},
   "source": [
    "### Comments\n",
    "\n",
    "Code after a `#` symbol doesn't get run."
   ]
  },
  {
   "cell_type": "code",
   "execution_count": 25,
   "metadata": {},
   "outputs": [
    {
     "name": "stdout",
     "output_type": "stream",
     "text": [
      "This runs\n"
     ]
    }
   ],
   "source": [
    "print(\"This runs\") # print \"This doesn't\"\n",
    "# print This doesn't either"
   ]
  },
  {
   "cell_type": "markdown",
   "metadata": {
    "slideshow": {
     "slide_type": "slide"
    }
   },
   "source": [
    "### Variables assignment\n",
    "\n",
    "A value/object stored in computer’s memory ”=“\n",
    "\n",
    ">x = \"hello world\"\n"
   ]
  },
  {
   "cell_type": "markdown",
   "metadata": {},
   "source": [
    "When we generate a result, the answer is displayed, but not kept anywhere."
   ]
  },
  {
   "cell_type": "code",
   "execution_count": 27,
   "metadata": {},
   "outputs": [
    {
     "data": {
      "text/plain": [
       "6"
      ]
     },
     "execution_count": 27,
     "metadata": {},
     "output_type": "execute_result"
    }
   ],
   "source": [
    "2*3"
   ]
  },
  {
   "cell_type": "markdown",
   "metadata": {},
   "source": [
    "If we want to get back to that result, we have to store it. We put it in a box, with a name on the box. This is a **variable**."
   ]
  },
  {
   "cell_type": "code",
   "execution_count": 29,
   "metadata": {},
   "outputs": [
    {
     "name": "stdout",
     "output_type": "stream",
     "text": [
      "6\n"
     ]
    }
   ],
   "source": [
    "result = 2*3\n",
    "print(result)"
   ]
  },
  {
   "cell_type": "markdown",
   "metadata": {},
   "source": [
    "### Objects and types\n",
    "\n",
    "An object, like `result`, has a type. Here we see that the object 'result' has type \"int\".\n",
    "`int` means a integer object."
   ]
  },
  {
   "cell_type": "code",
   "execution_count": 30,
   "metadata": {},
   "outputs": [
    {
     "data": {
      "text/plain": [
       "int"
      ]
     },
     "execution_count": 30,
     "metadata": {},
     "output_type": "execute_result"
    }
   ],
   "source": [
    "type(result)"
   ]
  },
  {
   "cell_type": "markdown",
   "metadata": {
    "slideshow": {
     "slide_type": "slide"
    }
   },
   "source": [
    "### Basic Data Types\n",
    "\n",
    "Strings(str): an ordered sequence of characters. \n",
    ">Sample_string=“hello world”\n",
    "\n",
    "Integers(int): Positive/Negative whole numbers \n",
    ">sample_int = 3619\n",
    "\n",
    "Floats(float): Real number with floating point. \n",
    ">Sample_float= 1.126\n",
    "\n",
    "Boolean(bool): either True or False\n",
    ">Sample_bool = True\n",
    "\n",
    "### Composite data-types\n",
    "\n",
    "Sequence : list, tuple, range\n",
    "\n",
    "> l1 = []\n",
    "\n",
    "Mapping : dict\n",
    "\n",
    "> d1 = {'stephen':'London'}\n",
    "\n",
    "Sets: set\n",
    "\n",
    "> s1 = {1,10}\n"
   ]
  },
  {
   "cell_type": "code",
   "execution_count": 36,
   "metadata": {},
   "outputs": [
    {
     "name": "stdout",
     "output_type": "stream",
     "text": [
      "h\n",
      "e\n",
      "hello\n"
     ]
    }
   ],
   "source": [
    "# you can access each character of a string through an index\n",
    "\n",
    "# first element\n",
    "x = 'hello world'\n",
    "print(x[0])\n",
    "\n",
    "# second element\n",
    "print (x[1])\n",
    "\n",
    "# slice\n",
    "print (x[0:5])"
   ]
  },
  {
   "cell_type": "code",
   "execution_count": 38,
   "metadata": {},
   "outputs": [
    {
     "name": "stdout",
     "output_type": "stream",
     "text": [
      "[1, 2, 3, 4, 5, 6]\n",
      "2\n",
      "[3, 4, 5, 6]\n",
      "[1, 2, 4, 5, 6, 7]\n"
     ]
    }
   ],
   "source": [
    "# lists are defined by [] or list()\n",
    "# A list is a mutable ordered sequence of items. The items of a list are arbitrary objects.\n",
    "list1=[1,2,3,4,5,6]\n",
    "print(list1)\n",
    "# lists can be sliced\n",
    "print (list1[1])\n",
    "print (list1[2:])\n",
    "\n",
    "# list methods - pop and append\n",
    "list1=[1,2,3,4,5,6]\n",
    "\n",
    "#we can add an element to the end of a list with .append\n",
    "list1.append(7)\n",
    "\n",
    "#we can remove an element from the list with .pop\n",
    "list1.pop(2)\n",
    "print (list1)"
   ]
  },
  {
   "cell_type": "markdown",
   "metadata": {
    "slideshow": {
     "slide_type": "slide"
    }
   },
   "source": [
    "## Algorithms\n",
    "\n",
    "An algorithm is a sequence of operations that need to be performed to solve a problem or carry out a process.\n",
    "\n",
    "\n",
    "## Program\n",
    "A program is a series of software instructions to control the operation of a computer. A program can contain multiple algorithms.\n",
    "\n"
   ]
  },
  {
   "cell_type": "code",
   "execution_count": 19,
   "metadata": {
    "slideshow": {
     "slide_type": "slide"
    }
   },
   "outputs": [
    {
     "name": "stdout",
     "output_type": "stream",
     "text": [
      "6\n"
     ]
    }
   ],
   "source": [
    "# a simple program\n",
    "width = 2\n",
    "height = 3\n",
    "area = width * height\n",
    "print(area)"
   ]
  },
  {
   "cell_type": "markdown",
   "metadata": {},
   "source": [
    "### Functions\n",
    "\n",
    "We can wrap code up in a **function**, so that we can repeatedly get just the information we want."
   ]
  },
  {
   "cell_type": "code",
   "execution_count": 22,
   "metadata": {},
   "outputs": [],
   "source": [
    "def area(width, height):\n",
    "    return width * height"
   ]
  },
  {
   "cell_type": "code",
   "execution_count": 23,
   "metadata": {},
   "outputs": [
    {
     "data": {
      "text/plain": [
       "60"
      ]
     },
     "execution_count": 23,
     "metadata": {},
     "output_type": "execute_result"
    }
   ],
   "source": [
    "area(5, 12)"
   ]
  },
  {
   "cell_type": "code",
   "execution_count": 5,
   "metadata": {
    "slideshow": {
     "slide_type": "slide"
    }
   },
   "outputs": [
    {
     "name": "stdout",
     "output_type": "stream",
     "text": [
      "what year is it?\n"
     ]
    },
    {
     "data": {
      "text/plain": [
       "str"
      ]
     },
     "execution_count": 5,
     "metadata": {},
     "output_type": "execute_result"
    }
   ],
   "source": [
    "# strings (text)\n",
    "x = \"what year is it?\"\n",
    "\n",
    "print (x)\n",
    "type(x)"
   ]
  },
  {
   "cell_type": "code",
   "execution_count": null,
   "metadata": {
    "slideshow": {
     "slide_type": "slide"
    }
   },
   "outputs": [],
   "source": [
    "# you can access each character of a string through an index\n",
    "# first element\n",
    "print (x[0])\n",
    "\n",
    "# second element\n",
    "print (x[1])\n",
    "\n",
    "# two together\n",
    "print (x[0],x[1])"
   ]
  },
  {
   "cell_type": "code",
   "execution_count": null,
   "metadata": {
    "slideshow": {
     "slide_type": "slide"
    }
   },
   "outputs": [],
   "source": [
    "# to find out the data-type you can use the type() function\n",
    "x=1\n",
    "y=1.0\n",
    "z=\"hello world\"\n",
    "b=True\n",
    "\n",
    "print (type(x))\n",
    "print (type(y))\n",
    "print (type(z))\n",
    "print (type(b))"
   ]
  },
  {
   "cell_type": "markdown",
   "metadata": {
    "slideshow": {
     "slide_type": "slide"
    }
   },
   "source": [
    "## Basic Arithmatic Operations\n",
    "\n",
    "In python there are a number of basic arithmatic operations\n",
    "\n",
    "    +    addition\n",
    "    -    subtraction\n",
    "    *    multiplication\n",
    "    /    division\n",
    "    **   exponentiation\n",
    "    %    modulo (remainder of division)\n",
    "    ==   equality (true/false)"
   ]
  },
  {
   "cell_type": "code",
   "execution_count": null,
   "metadata": {
    "slideshow": {
     "slide_type": "slide"
    }
   },
   "outputs": [],
   "source": [
    "# perform basic mathematic operations on the variables\n",
    "a = 20\n",
    "b = 60\n",
    "c = 80\n",
    "z = ((a+b+c)/20)**2\n",
    "print (z)\n"
   ]
  },
  {
   "cell_type": "code",
   "execution_count": null,
   "metadata": {
    "slideshow": {
     "slide_type": "slide"
    }
   },
   "outputs": [],
   "source": [
    "# boolean (Is expression True or False)\n",
    "x=True\n",
    "y=False\n",
    "type(x)"
   ]
  },
  {
   "cell_type": "code",
   "execution_count": null,
   "metadata": {
    "slideshow": {
     "slide_type": "slide"
    }
   },
   "outputs": [],
   "source": [
    "# equality\n",
    "\n",
    "y='a'\n",
    "z='b'\n",
    "y==z"
   ]
  },
  {
   "cell_type": "markdown",
   "metadata": {
    "slideshow": {
     "slide_type": "slide"
    }
   },
   "source": [
    "## Composite data-types\n",
    "\n",
    "Sequence : list, tuple, range\n",
    "\n",
    "> l1 = []\n",
    "\n",
    "Mapping : dict\n",
    "\n",
    "> d1 = {'stephen':'London'}\n",
    "\n",
    "Sets: set\n",
    "\n",
    "> s1 = {1,10}"
   ]
  },
  {
   "cell_type": "markdown",
   "metadata": {
    "slideshow": {
     "slide_type": "slide"
    }
   },
   "source": [
    "## List \n",
    "\n",
    "A list is a mutable ordered sequence of items. The items of a list are arbitrary objects.\n",
    "\n",
    "> l1 = [1,2,3]\n"
   ]
  },
  {
   "cell_type": "code",
   "execution_count": 8,
   "metadata": {
    "slideshow": {
     "slide_type": "slide"
    }
   },
   "outputs": [],
   "source": [
    "#You define a list as follows:\n",
    "\n",
    "l0 = []\n",
    "\n",
    "l1 = [42, 23.2, \"geography\"]\n",
    "\n",
    "l2 = [1, 2, 3, 4]\n",
    "\n",
    "l3 = [2, 4, 128, 27, 12, 30, 90, 100, 1, \"hello world\"]"
   ]
  },
  {
   "cell_type": "code",
   "execution_count": 3,
   "metadata": {
    "slideshow": {
     "slide_type": "slide"
    }
   },
   "outputs": [
    {
     "data": {
      "text/plain": [
       "2"
      ]
     },
     "execution_count": 3,
     "metadata": {},
     "output_type": "execute_result"
    }
   ],
   "source": [
    "# you can access the elements of the list by its index. here is the first element.\n",
    "\n",
    "l3[0]\n",
    "\n"
   ]
  },
  {
   "cell_type": "code",
   "execution_count": 4,
   "metadata": {
    "slideshow": {
     "slide_type": "slide"
    }
   },
   "outputs": [
    {
     "data": {
      "text/plain": [
       "'hello world'"
      ]
     },
     "execution_count": 4,
     "metadata": {},
     "output_type": "execute_result"
    }
   ],
   "source": [
    "# you can access the last element of the list by its index in reverse. \n",
    "\n",
    "l3[-1]\n",
    "\n"
   ]
  },
  {
   "cell_type": "code",
   "execution_count": 5,
   "metadata": {
    "slideshow": {
     "slide_type": "slide"
    }
   },
   "outputs": [
    {
     "data": {
      "text/plain": [
       "[2, 4]"
      ]
     },
     "execution_count": 5,
     "metadata": {},
     "output_type": "execute_result"
    }
   ],
   "source": [
    "# you can also access the elements of the list by slicing using the colon symbol. \n",
    "# here is slicing the first 2 elements of a list. \n",
    "\n",
    "l3[0:2]\n",
    "\n"
   ]
  },
  {
   "cell_type": "code",
   "execution_count": 6,
   "metadata": {
    "slideshow": {
     "slide_type": "slide"
    }
   },
   "outputs": [
    {
     "data": {
      "text/plain": [
       "[128, 27, 12, 30, 90, 100, 1, 'hello world']"
      ]
     },
     "execution_count": 6,
     "metadata": {},
     "output_type": "execute_result"
    }
   ],
   "source": [
    "# and here is the slice from the second element to the last.\n",
    "\n",
    "l3[2:]"
   ]
  },
  {
   "cell_type": "code",
   "execution_count": 12,
   "metadata": {
    "slideshow": {
     "slide_type": "slide"
    }
   },
   "outputs": [
    {
     "name": "stdout",
     "output_type": "stream",
     "text": [
      "[]\n"
     ]
    },
    {
     "data": {
      "text/plain": [
       "['append']"
      ]
     },
     "execution_count": 12,
     "metadata": {},
     "output_type": "execute_result"
    }
   ],
   "source": [
    "# to add an element of a list you can use the list.append() method\n",
    "print (l0)\n",
    "\n",
    "l0.append('append')\n",
    "\n",
    "l0"
   ]
  },
  {
   "cell_type": "code",
   "execution_count": 13,
   "metadata": {
    "slideshow": {
     "slide_type": "slide"
    }
   },
   "outputs": [
    {
     "name": "stdout",
     "output_type": "stream",
     "text": [
      "['append']\n"
     ]
    },
    {
     "data": {
      "text/plain": [
       "[]"
      ]
     },
     "execution_count": 13,
     "metadata": {},
     "output_type": "execute_result"
    }
   ],
   "source": [
    "# to drop an element of a list you can use the list.pop() method\n",
    "\n",
    "print (l0)\n",
    "\n",
    "l0.pop(-1)\n",
    "\n",
    "l0"
   ]
  },
  {
   "cell_type": "code",
   "execution_count": 22,
   "metadata": {
    "slideshow": {
     "slide_type": "slide"
    }
   },
   "outputs": [
    {
     "name": "stdout",
     "output_type": "stream",
     "text": [
      "[2, 4, 128, 27, 12, 100, 90, 100, 1, 'hello world']\n"
     ]
    },
    {
     "data": {
      "text/plain": [
       "2"
      ]
     },
     "execution_count": 22,
     "metadata": {},
     "output_type": "execute_result"
    }
   ],
   "source": [
    "# you can also count the occurence of a specific value in a list\n",
    "l3 = [2, 4, 128, 27, 12, 100, 90, 100, 1, \"hello world\"]\n",
    "print (l3)\n",
    "l3.count(100)"
   ]
  },
  {
   "cell_type": "code",
   "execution_count": 19,
   "metadata": {
    "slideshow": {
     "slide_type": "slide"
    }
   },
   "outputs": [
    {
     "data": {
      "text/plain": [
       "[4, 3, 2, 1]"
      ]
     },
     "execution_count": 19,
     "metadata": {},
     "output_type": "execute_result"
    }
   ],
   "source": [
    "# as well as sorting a list\n",
    "\n",
    "l2.sort(reverse=True)\n",
    "\n",
    "l2"
   ]
  },
  {
   "cell_type": "code",
   "execution_count": 26,
   "metadata": {
    "slideshow": {
     "slide_type": "slide"
    }
   },
   "outputs": [
    {
     "data": {
      "text/plain": [
       "10"
      ]
     },
     "execution_count": 26,
     "metadata": {},
     "output_type": "execute_result"
    }
   ],
   "source": [
    "# lastly if you want to know the length of your list - len()\n",
    "l3 = [2, 4, 128, 27, 12, 30, 90, 100, 1, \"hello world\"]\n",
    "len(l3)"
   ]
  },
  {
   "cell_type": "code",
   "execution_count": null,
   "metadata": {
    "slideshow": {
     "slide_type": "slide"
    }
   },
   "outputs": [],
   "source": [
    "# help and autocomplete\n",
    "l3 = [2, 4, 128, 27, 12, 30, 90, 100, 1, \"hello world\"]\n",
    "l3?"
   ]
  },
  {
   "cell_type": "markdown",
   "metadata": {},
   "source": [
    "### Importing Libraries\n",
    "\n",
    "Research programming is all about using libraries: tools other people have provided programs that do many cool things.\n",
    "By combining them we can feel really powerful but doing minimum work ourselves. The python syntax to import someone else's library is \"import\"."
   ]
  },
  {
   "cell_type": "code",
   "execution_count": 15,
   "metadata": {},
   "outputs": [
    {
     "data": {
      "text/plain": [
       "Location(Cambridge, Cambridgeshire, East of England, England, United Kingdom, (52.197584649999996, 0.13915373736874398, 0.0))"
      ]
     },
     "execution_count": 15,
     "metadata": {},
     "output_type": "execute_result"
    }
   ],
   "source": [
    "import geopy # A python library for investigating geographic information.\n",
    "# https://pypi.org/project/geopy/\n",
    "\n",
    "# get coordinates of cambridge\n",
    "geocoder = geopy.geocoders.Nominatim(user_agent='CASA0002')\n",
    "geocoder.geocode('Cambridge')"
   ]
  },
  {
   "cell_type": "markdown",
   "metadata": {
    "slideshow": {
     "slide_type": "slide"
    }
   },
   "source": [
    "### References\n",
    "\n",
    "* Python for Data Analysis: Data Wrangling with Pandas, NumPy, and Ipython (Wes McKinney)\n",
    "\n",
    "\n",
    "* Python Official Tutorial https://docs.python.org/3/tutorial/index.html\n",
    "\n",
    "\n",
    "* John V. Guttag. Introduction to Computation and Programming Using Python. MIT Press 2013. \n"
   ]
  }
 ],
 "metadata": {
  "kernelspec": {
   "display_name": "Python 3",
   "language": "python",
   "name": "python3"
  },
  "language_info": {
   "codemirror_mode": {
    "name": "ipython",
    "version": 3
   },
   "file_extension": ".py",
   "mimetype": "text/x-python",
   "name": "python",
   "nbconvert_exporter": "python",
   "pygments_lexer": "ipython3",
   "version": "3.7.8"
  }
 },
 "nbformat": 4,
 "nbformat_minor": 2
}
