{
 "cells": [
  {
   "cell_type": "markdown",
   "metadata": {
    "slideshow": {
     "slide_type": "slide"
    }
   },
   "source": [
    "### CASA0002\n",
    "\n",
    "# Urban Simulation\n",
    "***\n",
    "## Linear Algebra with Numpy\n",
    "\n",
    "Mateo Neira\n",
    "***\n",
    "\n",
    "For both Spatial Interaction Models and Urban Networks it's important to have a basic understanding of linear algebra concepts and to be able to work with and manipulate vectors and matrices in python. \n",
    "\n",
    "In this lab we will cover the basics of working with numpy, which will serve as a base for the rest of the practicals in this module.\n",
    "\n",
    "**Objectives**:\n",
    "* Review basic numpy functions\n",
    "* define a vector and calculate a vector length and dot product\n",
    "* define a matrix and calculate a matrix multiplication, transpose, and inverse\n",
    "* explain cosine similarity and compute the similarity between two vectors\n",
    "* eigenvalues and eigenvectors"
   ]
  },
  {
   "cell_type": "markdown",
   "metadata": {},
   "source": [
    "## Numpy\n",
    "\n",
    "Numpy is the fundamental package for scientific computing with Python. It provides numerical functions on _ndarray_ which are fixed size n-dimensional array data structures. Numpy is implemented in C where its memory is more efficiently stored. \n",
    "\n",
    "Numpy arrays form the core of nearly the entire ecosystem of data science tools in Python, so time spent learning to use numpy effectively will be useful not only in this module, but other data science applications as well. Here we will be using _ndarray_ to represent vectors and matrices. \n",
    "\n",
    "We can import numpy using:\n",
    "\n",
    "```python\n",
    "import numpy as np\n",
    "```\n",
    "\n"
   ]
  },
  {
   "cell_type": "code",
   "execution_count": 4,
   "metadata": {},
   "outputs": [],
   "source": [
    "### let's first import the numpy library\n",
    "import numpy as np"
   ]
  },
  {
   "cell_type": "markdown",
   "metadata": {},
   "source": [
    "There are different types of objects (or structures) in linear algebra:\n",
    "* Scalar: Single number\n",
    "* Vector: Array of numbers\n",
    "* Matrix: 2-dimensional array of numbers\n",
    "* Tensor: N-dimensional array of numbers where n > 2"
   ]
  },
  {
   "cell_type": "markdown",
   "metadata": {},
   "source": [
    "### Numpy Arrays - Vectors\n",
    "> $x \\in \\mathbb{R}^n$\n",
    " \n",
    "One dimensional ndarray represent a vector of elements.\n",
    "\n",
    "For example we can create the following vector $\\vec{x} = \\begin{bmatrix}2 & 3 & 4 \\end{bmatrix}$ in numpy:\n",
    "\n",
    "```python\n",
    "x = np.array([2,3,4])\n",
    "```"
   ]
  },
  {
   "cell_type": "code",
   "execution_count": 5,
   "metadata": {},
   "outputs": [
    {
     "name": "stdout",
     "output_type": "stream",
     "text": [
      "1\n",
      "16\n",
      "(16,)\n",
      "int32\n"
     ]
    }
   ],
   "source": [
    "### make a 1d array\n",
    "x=np.array([1,1,1,1,1,1,1,2,2,3,4,5,6,7,8,10])\n",
    "\n",
    "print (x.ndim)\n",
    "print (x.size)\n",
    "print (x.shape)\n",
    "\n",
    "# similar to python data type (int,float,bool)\n",
    "print (x.dtype)"
   ]
  },
  {
   "cell_type": "markdown",
   "metadata": {},
   "source": [
    "### Numpy Arrays - Matrix\n",
    "\n",
    "> $X \\in \\mathbb{R}^{n*m}$\n",
    "\n",
    "Two dimensional ndarray represents a matrix of elements.\n",
    "\n",
    "For example we can create the following matrix $ X = \\begin{bmatrix} 1 & 2 & 3 \\\\ 4 & 5 & 6 \\end{bmatrix}$ in numpy:\n",
    "\n",
    "> X = np.array([[1, 2, 3], [4, 5, 6]])"
   ]
  },
  {
   "cell_type": "code",
   "execution_count": 6,
   "metadata": {},
   "outputs": [
    {
     "name": "stdout",
     "output_type": "stream",
     "text": [
      "2\n",
      "6\n",
      "(2, 3)\n",
      "int32\n"
     ]
    }
   ],
   "source": [
    "### make a 2d array\n",
    "X=np.array([[1,2,3],\n",
    "            [4,5,6]])\n",
    "\n",
    "print (X.ndim)\n",
    "print (X.size)\n",
    "print (X.shape)\n",
    "print (X.dtype)"
   ]
  },
  {
   "cell_type": "markdown",
   "metadata": {},
   "source": [
    "### Numpy Arrays - Multidimensional arrays (Tensors)\n",
    "\n",
    "We can also use ndarray to create multidimensional arrays. These are often useful to represent tensors.\n",
    "\n",
    "Images, for example can be represented as a three-dimensional array where the shape = (channel,height, width).\n",
    "\n",
    "```python\n",
    "X = np.array([ [[1, 2],[4, 5]],\n",
    "               [[2, 5], [6, 4]],\n",
    "               [[2, 5],[6, 4]]])\n",
    "```"
   ]
  },
  {
   "cell_type": "code",
   "execution_count": 10,
   "metadata": {},
   "outputs": [
    {
     "name": "stdout",
     "output_type": "stream",
     "text": [
      "3\n",
      "12\n",
      "(3, 2, 2)\n",
      "int32\n"
     ]
    }
   ],
   "source": [
    "### make a 3d array\n",
    "X=np.array( [[[1, 2], [4, 5]],\n",
    "             [[2, 5], [6, 4]],\n",
    "             [[2, 5], [6, 4]]])\n",
    "\n",
    "print (X.ndim)\n",
    "print (X.size)\n",
    "print (X.shape)\n",
    "print (X.dtype)"
   ]
  },
  {
   "cell_type": "markdown",
   "metadata": {},
   "source": [
    "### indexing\n",
    "\n",
    "Individual elements in arrays can be retrieved using the [] indexer. We can also use the [] indexer to set values of individual array elements. Python is zero-indexed, meaning that the first element has to be accessed with index 0.\n",
    "\n",
    "```python \n",
    "x[0] = 5\n",
    "```"
   ]
  },
  {
   "cell_type": "code",
   "execution_count": 13,
   "metadata": {},
   "outputs": [
    {
     "name": "stdout",
     "output_type": "stream",
     "text": [
      "5\n",
      "[5 0 8 9]\n"
     ]
    }
   ],
   "source": [
    "x=np.array([5,3,8,9])\n",
    "\n",
    "### indexing\n",
    "print(x[0])\n",
    "\n",
    "### setting the value of individual element\n",
    "### this will set the second element in the vector to 0\n",
    "x[1]=0\n",
    "print(x)"
   ]
  },
  {
   "cell_type": "markdown",
   "metadata": {},
   "source": [
    "In multi-dimensional arrays, items can be accessed using a comma-separated tuple of indices. \n",
    "\n",
    "For example the element $x_{1,2}$ from the matrix $X$ can be accessed using:\n",
    "\n",
    "```python\n",
    "X[0,1]\n",
    "```"
   ]
  },
  {
   "cell_type": "code",
   "execution_count": 14,
   "metadata": {},
   "outputs": [
    {
     "name": "stdout",
     "output_type": "stream",
     "text": [
      "[[1 2 3]\n",
      " [4 5 6]]\n",
      "2\n"
     ]
    }
   ],
   "source": [
    "X = np.array([[1, 2, 3], [4, 5, 6]])\n",
    "print(X)\n",
    "print(X[0,1])"
   ]
  },
  {
   "cell_type": "markdown",
   "metadata": {},
   "source": [
    "Values can also be modified in multi-dimensional arrays using the same index notation."
   ]
  },
  {
   "cell_type": "code",
   "execution_count": 15,
   "metadata": {},
   "outputs": [
    {
     "data": {
      "text/plain": [
       "array([[ 1,  2,  3],\n",
       "       [ 4,  5, 10]])"
      ]
     },
     "execution_count": 15,
     "metadata": {},
     "output_type": "execute_result"
    }
   ],
   "source": [
    "X[1,2]=10\n",
    "X"
   ]
  },
  {
   "cell_type": "markdown",
   "metadata": {},
   "source": [
    "### slicing\n",
    "\n",
    "In the same way that we can use [] to access individual elements, we can also use them to access subarrays with the *slice* notation by using colon (:). \n",
    "\n",
    "```python \n",
    "x[start:stop:step]\n",
    "```\n",
    "\n",
    "By default these values take start = 0, stop = size of dimension, step = 1"
   ]
  },
  {
   "cell_type": "code",
   "execution_count": 16,
   "metadata": {},
   "outputs": [
    {
     "data": {
      "text/plain": [
       "array([5, 0])"
      ]
     },
     "execution_count": 16,
     "metadata": {},
     "output_type": "execute_result"
    }
   ],
   "source": [
    "### get first two elements\n",
    "x[:2]"
   ]
  },
  {
   "cell_type": "code",
   "execution_count": 17,
   "metadata": {},
   "outputs": [
    {
     "data": {
      "text/plain": [
       "array([8, 9])"
      ]
     },
     "execution_count": 17,
     "metadata": {},
     "output_type": "execute_result"
    }
   ],
   "source": [
    "### get all elements after second\n",
    "x[2:]"
   ]
  },
  {
   "cell_type": "code",
   "execution_count": 18,
   "metadata": {},
   "outputs": [
    {
     "data": {
      "text/plain": [
       "array([8, 9])"
      ]
     },
     "execution_count": 18,
     "metadata": {},
     "output_type": "execute_result"
    }
   ],
   "source": [
    "## elements in the middle of the array\n",
    "x[2:4]"
   ]
  },
  {
   "cell_type": "code",
   "execution_count": 19,
   "metadata": {},
   "outputs": [
    {
     "data": {
      "text/plain": [
       "array([[1, 2],\n",
       "       [4, 5]])"
      ]
     },
     "execution_count": 19,
     "metadata": {},
     "output_type": "execute_result"
    }
   ],
   "source": [
    "## similarly with multi-dimensional arrays\n",
    "## get first 2 columns and first 2 rows\n",
    "X[:2,:2]"
   ]
  },
  {
   "cell_type": "markdown",
   "metadata": {},
   "source": [
    "### reshaping\n",
    "\n",
    "Reshaping is another useful operation, and can be called using the _.reshape_ method. \n",
    "\n",
    "As an example, we can create an array of the number 1 through 9, and reshape into a 3 x 3 grid:\n",
    "\n",
    "```python\n",
    "x = np.arange(1,10)\n",
    "X = x.reshape((3,3))\n",
    "```"
   ]
  },
  {
   "cell_type": "code",
   "execution_count": 20,
   "metadata": {},
   "outputs": [
    {
     "name": "stdout",
     "output_type": "stream",
     "text": [
      "[1 2 3 4 5 6 7 8 9]\n",
      "[[1 2 3]\n",
      " [4 5 6]\n",
      " [7 8 9]]\n"
     ]
    }
   ],
   "source": [
    "# .arange() creates envely spaced values with a given interval\n",
    "x = np.arange(1,10)\n",
    "X = x.reshape((3,3))\n",
    "print(x)\n",
    "print(X)"
   ]
  },
  {
   "cell_type": "markdown",
   "metadata": {},
   "source": [
    "### mathematical function\n",
    "\n",
    "So far we have been discussing some of the basics of numpy, basically creating, accessing and modifying _ndarrays_. However, the power of **numpy** lies in its easy and flexible interface to optimize computation over these _ndarrays_."
   ]
  },
  {
   "cell_type": "markdown",
   "metadata": {},
   "source": [
    "### array arithmetic\n",
    "\n",
    "We can use python native arithmatic operators on _ndarrays_. For example, standard addition, subtraction, multiplication, and division can be used."
   ]
  },
  {
   "cell_type": "code",
   "execution_count": 22,
   "metadata": {},
   "outputs": [
    {
     "name": "stdout",
     "output_type": "stream",
     "text": [
      "[2 3 4]\n",
      "[2 4 6]\n",
      "[1 4 9]\n"
     ]
    }
   ],
   "source": [
    "# arithmatic operations on arrays \n",
    "x = np.array([1, 2, 3])\n",
    "\n",
    "print (x + 1)\n",
    "print (x * 2)\n",
    "print (x ** 2)"
   ]
  },
  {
   "cell_type": "markdown",
   "metadata": {},
   "source": [
    "Note that these operations are 'broadcasted' to the array. In a nutshell 'broadcasting' describes how numpy treats arrays with different shapes during arithmatic operation. These operations are run element-wise.\n",
    "\n",
    "see: https://numpy.org/doc/stable/user/basics.broadcasting.html"
   ]
  },
  {
   "cell_type": "markdown",
   "metadata": {},
   "source": [
    "We can also sum over a given axis in an array using the _.sum()_ method. \n",
    "\n",
    "Imagine we have \n",
    "$$ T = \\begin{bmatrix} 5 & 2 & 10 \\\\ 6 & 8 & 4 \\\\ 10 & 4 & 6  \\end{bmatrix}$$ \n",
    "\n",
    "representing a origin-destination matrix. We can quickly calculate totals at origins $O_i = \\sum_j T_{ij}$ and destination $D_j = \\sum_i T_{ij}$:\n",
    "\n",
    "```python\n",
    "Origins = T.sum(axis=1)\n",
    "Destinations = T.sum(axis=0)\n",
    "```"
   ]
  },
  {
   "cell_type": "code",
   "execution_count": 24,
   "metadata": {},
   "outputs": [
    {
     "name": "stdout",
     "output_type": "stream",
     "text": [
      "[17 18 20]\n",
      "[21 14 20]\n"
     ]
    }
   ],
   "source": [
    "# define array\n",
    "T = np.array([[5,2,10],\n",
    "              [6,8,4],\n",
    "              [10,4,6]\n",
    "             ])\n",
    "\n",
    "# sum across rows\n",
    "origins = T.sum(axis=1)\n",
    "print(origins)\n",
    "\n",
    "# sums across columns\n",
    "destinations = T.sum(axis=0)\n",
    "print(destinations)"
   ]
  },
  {
   "cell_type": "markdown",
   "metadata": {},
   "source": [
    "### dot products"
   ]
  },
  {
   "cell_type": "code",
   "execution_count": 25,
   "metadata": {},
   "outputs": [
    {
     "data": {
      "text/plain": [
       "32"
      ]
     },
     "execution_count": 25,
     "metadata": {},
     "output_type": "execute_result"
    }
   ],
   "source": [
    "# dot product between two arrays (product-sum between the two arrays)\n",
    "rv = np.array([1,2,3])\n",
    "cv = np.array([4,5,6])\n",
    "np.dot(rv,cv)"
   ]
  },
  {
   "cell_type": "markdown",
   "metadata": {},
   "source": [
    "### matrix multiplication"
   ]
  },
  {
   "cell_type": "code",
   "execution_count": 91,
   "metadata": {},
   "outputs": [
    {
     "data": {
      "text/plain": [
       "32"
      ]
     },
     "execution_count": 91,
     "metadata": {},
     "output_type": "execute_result"
    }
   ],
   "source": []
  },
  {
   "cell_type": "markdown",
   "metadata": {},
   "source": [
    "### inverting a matrix"
   ]
  },
  {
   "cell_type": "code",
   "execution_count": null,
   "metadata": {},
   "outputs": [],
   "source": []
  },
  {
   "cell_type": "markdown",
   "metadata": {
    "slideshow": {
     "slide_type": "slide"
    }
   },
   "source": [
    "### References\n",
    "\n",
    "* Python for Data Analysis: Data Wrangling with Pandas, NumPy, and Ipython (Wes McKinney)\n",
    "\n",
    "\n",
    "* Numpy reference: https://numpy.org/doc/stable/reference/index.html\n",
    "\n"
   ]
  },
  {
   "cell_type": "code",
   "execution_count": null,
   "metadata": {},
   "outputs": [],
   "source": []
  }
 ],
 "metadata": {
  "kernelspec": {
   "display_name": "urbsim",
   "language": "python",
   "name": "urbsim"
  },
  "language_info": {
   "codemirror_mode": {
    "name": "ipython",
    "version": 3
   },
   "file_extension": ".py",
   "mimetype": "text/x-python",
   "name": "python",
   "nbconvert_exporter": "python",
   "pygments_lexer": "ipython3",
   "version": "3.7.9"
  }
 },
 "nbformat": 4,
 "nbformat_minor": 2
}
